{
  "cells": [
    {
      "cell_type": "code",
      "execution_count": 63,
      "metadata": {
        "id": "7pJeITTdJcb5"
      },
      "outputs": [],
      "source": [
        "# Source: search for Black Friday Sales Prediction on Analytics Vidhya\n",
        "\n",
        "import pandas as pd\n",
        "import numpy as np\n",
        "import matplotlib.pyplot as plt\n",
        "%matplotlib inline\n",
        "import seaborn as sns"
      ]
    },
    {
      "cell_type": "code",
      "execution_count": 5,
      "metadata": {
        "id": "ECigxDsyJp5S"
      },
      "outputs": [],
      "source": [
        "#from google.colab import files\n",
        "#uploaded = files.upload()"
      ]
    },
    {
      "cell_type": "code",
      "execution_count": 6,
      "metadata": {
        "colab": {
          "base_uri": "https://localhost:8080/"
        },
        "id": "xD3PwvaQK_gF",
        "outputId": "d4c340bc-78b9-45b6-b0d6-c651fa046d60"
      },
      "outputs": [
        {
          "output_type": "stream",
          "name": "stdout",
          "text": [
            "Drive already mounted at /content/drive; to attempt to forcibly remount, call drive.mount(\"/content/drive\", force_remount=True).\n"
          ]
        }
      ],
      "source": [
        "from google.colab import drive\n",
        "drive.mount('/content/drive')"
      ]
    },
    {
      "cell_type": "code",
      "execution_count": 91,
      "metadata": {
        "id": "jGlGPIRdJyJv"
      },
      "outputs": [],
      "source": [
        "# reading the train and test datasets into traindt and testdt variables\n",
        "traindt=pd.read_csv('/content/drive/MyDrive/Black Friday/Black_Friday_train.csv')\n",
        "testdt=pd.read_csv('/content/drive/MyDrive/Black Friday/Black_Friday_test.csv')"
      ]
    },
    {
      "cell_type": "code",
      "execution_count": 65,
      "metadata": {
        "colab": {
          "base_uri": "https://localhost:8080/",
          "height": 339
        },
        "id": "PnkfdPwwMSS9",
        "outputId": "9749e4eb-933a-4fc2-8fdd-989f9c89b498"
      },
      "outputs": [
        {
          "output_type": "execute_result",
          "data": {
            "text/html": [
              "\n",
              "  <div id=\"df-f086d037-9422-467e-9617-c83aafe211fb\">\n",
              "    <div class=\"colab-df-container\">\n",
              "      <div>\n",
              "<style scoped>\n",
              "    .dataframe tbody tr th:only-of-type {\n",
              "        vertical-align: middle;\n",
              "    }\n",
              "\n",
              "    .dataframe tbody tr th {\n",
              "        vertical-align: top;\n",
              "    }\n",
              "\n",
              "    .dataframe thead th {\n",
              "        text-align: right;\n",
              "    }\n",
              "</style>\n",
              "<table border=\"1\" class=\"dataframe\">\n",
              "  <thead>\n",
              "    <tr style=\"text-align: right;\">\n",
              "      <th></th>\n",
              "      <th>User_ID</th>\n",
              "      <th>Product_ID</th>\n",
              "      <th>Gender</th>\n",
              "      <th>Age</th>\n",
              "      <th>Occupation</th>\n",
              "      <th>City_Category</th>\n",
              "      <th>Stay_In_Current_City_Years</th>\n",
              "      <th>Marital_Status</th>\n",
              "      <th>Product_Category_1</th>\n",
              "      <th>Product_Category_2</th>\n",
              "      <th>Product_Category_3</th>\n",
              "      <th>Purchase</th>\n",
              "    </tr>\n",
              "  </thead>\n",
              "  <tbody>\n",
              "    <tr>\n",
              "      <th>0</th>\n",
              "      <td>1000001</td>\n",
              "      <td>P00069042</td>\n",
              "      <td>F</td>\n",
              "      <td>0-17</td>\n",
              "      <td>10</td>\n",
              "      <td>A</td>\n",
              "      <td>2</td>\n",
              "      <td>0</td>\n",
              "      <td>3</td>\n",
              "      <td>NaN</td>\n",
              "      <td>NaN</td>\n",
              "      <td>8370</td>\n",
              "    </tr>\n",
              "    <tr>\n",
              "      <th>1</th>\n",
              "      <td>1000001</td>\n",
              "      <td>P00248942</td>\n",
              "      <td>F</td>\n",
              "      <td>0-17</td>\n",
              "      <td>10</td>\n",
              "      <td>A</td>\n",
              "      <td>2</td>\n",
              "      <td>0</td>\n",
              "      <td>1</td>\n",
              "      <td>6.0</td>\n",
              "      <td>14.0</td>\n",
              "      <td>15200</td>\n",
              "    </tr>\n",
              "    <tr>\n",
              "      <th>2</th>\n",
              "      <td>1000001</td>\n",
              "      <td>P00087842</td>\n",
              "      <td>F</td>\n",
              "      <td>0-17</td>\n",
              "      <td>10</td>\n",
              "      <td>A</td>\n",
              "      <td>2</td>\n",
              "      <td>0</td>\n",
              "      <td>12</td>\n",
              "      <td>NaN</td>\n",
              "      <td>NaN</td>\n",
              "      <td>1422</td>\n",
              "    </tr>\n",
              "    <tr>\n",
              "      <th>3</th>\n",
              "      <td>1000001</td>\n",
              "      <td>P00085442</td>\n",
              "      <td>F</td>\n",
              "      <td>0-17</td>\n",
              "      <td>10</td>\n",
              "      <td>A</td>\n",
              "      <td>2</td>\n",
              "      <td>0</td>\n",
              "      <td>12</td>\n",
              "      <td>14.0</td>\n",
              "      <td>NaN</td>\n",
              "      <td>1057</td>\n",
              "    </tr>\n",
              "    <tr>\n",
              "      <th>4</th>\n",
              "      <td>1000002</td>\n",
              "      <td>P00285442</td>\n",
              "      <td>M</td>\n",
              "      <td>55+</td>\n",
              "      <td>16</td>\n",
              "      <td>C</td>\n",
              "      <td>4+</td>\n",
              "      <td>0</td>\n",
              "      <td>8</td>\n",
              "      <td>NaN</td>\n",
              "      <td>NaN</td>\n",
              "      <td>7969</td>\n",
              "    </tr>\n",
              "  </tbody>\n",
              "</table>\n",
              "</div>\n",
              "      <button class=\"colab-df-convert\" onclick=\"convertToInteractive('df-f086d037-9422-467e-9617-c83aafe211fb')\"\n",
              "              title=\"Convert this dataframe to an interactive table.\"\n",
              "              style=\"display:none;\">\n",
              "        \n",
              "  <svg xmlns=\"http://www.w3.org/2000/svg\" height=\"24px\"viewBox=\"0 0 24 24\"\n",
              "       width=\"24px\">\n",
              "    <path d=\"M0 0h24v24H0V0z\" fill=\"none\"/>\n",
              "    <path d=\"M18.56 5.44l.94 2.06.94-2.06 2.06-.94-2.06-.94-.94-2.06-.94 2.06-2.06.94zm-11 1L8.5 8.5l.94-2.06 2.06-.94-2.06-.94L8.5 2.5l-.94 2.06-2.06.94zm10 10l.94 2.06.94-2.06 2.06-.94-2.06-.94-.94-2.06-.94 2.06-2.06.94z\"/><path d=\"M17.41 7.96l-1.37-1.37c-.4-.4-.92-.59-1.43-.59-.52 0-1.04.2-1.43.59L10.3 9.45l-7.72 7.72c-.78.78-.78 2.05 0 2.83L4 21.41c.39.39.9.59 1.41.59.51 0 1.02-.2 1.41-.59l7.78-7.78 2.81-2.81c.8-.78.8-2.07 0-2.86zM5.41 20L4 18.59l7.72-7.72 1.47 1.35L5.41 20z\"/>\n",
              "  </svg>\n",
              "      </button>\n",
              "      \n",
              "  <style>\n",
              "    .colab-df-container {\n",
              "      display:flex;\n",
              "      flex-wrap:wrap;\n",
              "      gap: 12px;\n",
              "    }\n",
              "\n",
              "    .colab-df-convert {\n",
              "      background-color: #E8F0FE;\n",
              "      border: none;\n",
              "      border-radius: 50%;\n",
              "      cursor: pointer;\n",
              "      display: none;\n",
              "      fill: #1967D2;\n",
              "      height: 32px;\n",
              "      padding: 0 0 0 0;\n",
              "      width: 32px;\n",
              "    }\n",
              "\n",
              "    .colab-df-convert:hover {\n",
              "      background-color: #E2EBFA;\n",
              "      box-shadow: 0px 1px 2px rgba(60, 64, 67, 0.3), 0px 1px 3px 1px rgba(60, 64, 67, 0.15);\n",
              "      fill: #174EA6;\n",
              "    }\n",
              "\n",
              "    [theme=dark] .colab-df-convert {\n",
              "      background-color: #3B4455;\n",
              "      fill: #D2E3FC;\n",
              "    }\n",
              "\n",
              "    [theme=dark] .colab-df-convert:hover {\n",
              "      background-color: #434B5C;\n",
              "      box-shadow: 0px 1px 3px 1px rgba(0, 0, 0, 0.15);\n",
              "      filter: drop-shadow(0px 1px 2px rgba(0, 0, 0, 0.3));\n",
              "      fill: #FFFFFF;\n",
              "    }\n",
              "  </style>\n",
              "\n",
              "      <script>\n",
              "        const buttonEl =\n",
              "          document.querySelector('#df-f086d037-9422-467e-9617-c83aafe211fb button.colab-df-convert');\n",
              "        buttonEl.style.display =\n",
              "          google.colab.kernel.accessAllowed ? 'block' : 'none';\n",
              "\n",
              "        async function convertToInteractive(key) {\n",
              "          const element = document.querySelector('#df-f086d037-9422-467e-9617-c83aafe211fb');\n",
              "          const dataTable =\n",
              "            await google.colab.kernel.invokeFunction('convertToInteractive',\n",
              "                                                     [key], {});\n",
              "          if (!dataTable) return;\n",
              "\n",
              "          const docLinkHtml = 'Like what you see? Visit the ' +\n",
              "            '<a target=\"_blank\" href=https://colab.research.google.com/notebooks/data_table.ipynb>data table notebook</a>'\n",
              "            + ' to learn more about interactive tables.';\n",
              "          element.innerHTML = '';\n",
              "          dataTable['output_type'] = 'display_data';\n",
              "          await google.colab.output.renderOutput(dataTable, element);\n",
              "          const docLink = document.createElement('div');\n",
              "          docLink.innerHTML = docLinkHtml;\n",
              "          element.appendChild(docLink);\n",
              "        }\n",
              "      </script>\n",
              "    </div>\n",
              "  </div>\n",
              "  "
            ],
            "text/plain": [
              "   User_ID Product_ID Gender  ... Product_Category_2  Product_Category_3 Purchase\n",
              "0  1000001  P00069042      F  ...                NaN                 NaN     8370\n",
              "1  1000001  P00248942      F  ...                6.0                14.0    15200\n",
              "2  1000001  P00087842      F  ...                NaN                 NaN     1422\n",
              "3  1000001  P00085442      F  ...               14.0                 NaN     1057\n",
              "4  1000002  P00285442      M  ...                NaN                 NaN     7969\n",
              "\n",
              "[5 rows x 12 columns]"
            ]
          },
          "metadata": {},
          "execution_count": 65
        }
      ],
      "source": [
        "traindt.head(5)"
      ]
    },
    {
      "cell_type": "code",
      "execution_count": 67,
      "metadata": {
        "colab": {
          "base_uri": "https://localhost:8080/",
          "height": 357
        },
        "id": "vu9nujRwMVGj",
        "outputId": "5431b573-1c0a-4545-ac02-f903ecf32f5d"
      },
      "outputs": [
        {
          "output_type": "execute_result",
          "data": {
            "text/html": [
              "\n",
              "  <div id=\"df-d2ef9aab-75fa-4498-94aa-740c25d0a1cc\">\n",
              "    <div class=\"colab-df-container\">\n",
              "      <div>\n",
              "<style scoped>\n",
              "    .dataframe tbody tr th:only-of-type {\n",
              "        vertical-align: middle;\n",
              "    }\n",
              "\n",
              "    .dataframe tbody tr th {\n",
              "        vertical-align: top;\n",
              "    }\n",
              "\n",
              "    .dataframe thead th {\n",
              "        text-align: right;\n",
              "    }\n",
              "</style>\n",
              "<table border=\"1\" class=\"dataframe\">\n",
              "  <thead>\n",
              "    <tr style=\"text-align: right;\">\n",
              "      <th></th>\n",
              "      <th>User_ID</th>\n",
              "      <th>Product_ID</th>\n",
              "      <th>Gender</th>\n",
              "      <th>Age</th>\n",
              "      <th>Occupation</th>\n",
              "      <th>City_Category</th>\n",
              "      <th>Stay_In_Current_City_Years</th>\n",
              "      <th>Marital_Status</th>\n",
              "      <th>Product_Category_1</th>\n",
              "      <th>Product_Category_2</th>\n",
              "      <th>Product_Category_3</th>\n",
              "    </tr>\n",
              "  </thead>\n",
              "  <tbody>\n",
              "    <tr>\n",
              "      <th>0</th>\n",
              "      <td>1000004</td>\n",
              "      <td>P00128942</td>\n",
              "      <td>M</td>\n",
              "      <td>46-50</td>\n",
              "      <td>7</td>\n",
              "      <td>B</td>\n",
              "      <td>2</td>\n",
              "      <td>1</td>\n",
              "      <td>1</td>\n",
              "      <td>11.0</td>\n",
              "      <td>NaN</td>\n",
              "    </tr>\n",
              "    <tr>\n",
              "      <th>1</th>\n",
              "      <td>1000009</td>\n",
              "      <td>P00113442</td>\n",
              "      <td>M</td>\n",
              "      <td>26-35</td>\n",
              "      <td>17</td>\n",
              "      <td>C</td>\n",
              "      <td>0</td>\n",
              "      <td>0</td>\n",
              "      <td>3</td>\n",
              "      <td>5.0</td>\n",
              "      <td>NaN</td>\n",
              "    </tr>\n",
              "    <tr>\n",
              "      <th>2</th>\n",
              "      <td>1000010</td>\n",
              "      <td>P00288442</td>\n",
              "      <td>F</td>\n",
              "      <td>36-45</td>\n",
              "      <td>1</td>\n",
              "      <td>B</td>\n",
              "      <td>4+</td>\n",
              "      <td>1</td>\n",
              "      <td>5</td>\n",
              "      <td>14.0</td>\n",
              "      <td>NaN</td>\n",
              "    </tr>\n",
              "    <tr>\n",
              "      <th>3</th>\n",
              "      <td>1000010</td>\n",
              "      <td>P00145342</td>\n",
              "      <td>F</td>\n",
              "      <td>36-45</td>\n",
              "      <td>1</td>\n",
              "      <td>B</td>\n",
              "      <td>4+</td>\n",
              "      <td>1</td>\n",
              "      <td>4</td>\n",
              "      <td>9.0</td>\n",
              "      <td>NaN</td>\n",
              "    </tr>\n",
              "    <tr>\n",
              "      <th>4</th>\n",
              "      <td>1000011</td>\n",
              "      <td>P00053842</td>\n",
              "      <td>F</td>\n",
              "      <td>26-35</td>\n",
              "      <td>1</td>\n",
              "      <td>C</td>\n",
              "      <td>1</td>\n",
              "      <td>0</td>\n",
              "      <td>4</td>\n",
              "      <td>5.0</td>\n",
              "      <td>12.0</td>\n",
              "    </tr>\n",
              "  </tbody>\n",
              "</table>\n",
              "</div>\n",
              "      <button class=\"colab-df-convert\" onclick=\"convertToInteractive('df-d2ef9aab-75fa-4498-94aa-740c25d0a1cc')\"\n",
              "              title=\"Convert this dataframe to an interactive table.\"\n",
              "              style=\"display:none;\">\n",
              "        \n",
              "  <svg xmlns=\"http://www.w3.org/2000/svg\" height=\"24px\"viewBox=\"0 0 24 24\"\n",
              "       width=\"24px\">\n",
              "    <path d=\"M0 0h24v24H0V0z\" fill=\"none\"/>\n",
              "    <path d=\"M18.56 5.44l.94 2.06.94-2.06 2.06-.94-2.06-.94-.94-2.06-.94 2.06-2.06.94zm-11 1L8.5 8.5l.94-2.06 2.06-.94-2.06-.94L8.5 2.5l-.94 2.06-2.06.94zm10 10l.94 2.06.94-2.06 2.06-.94-2.06-.94-.94-2.06-.94 2.06-2.06.94z\"/><path d=\"M17.41 7.96l-1.37-1.37c-.4-.4-.92-.59-1.43-.59-.52 0-1.04.2-1.43.59L10.3 9.45l-7.72 7.72c-.78.78-.78 2.05 0 2.83L4 21.41c.39.39.9.59 1.41.59.51 0 1.02-.2 1.41-.59l7.78-7.78 2.81-2.81c.8-.78.8-2.07 0-2.86zM5.41 20L4 18.59l7.72-7.72 1.47 1.35L5.41 20z\"/>\n",
              "  </svg>\n",
              "      </button>\n",
              "      \n",
              "  <style>\n",
              "    .colab-df-container {\n",
              "      display:flex;\n",
              "      flex-wrap:wrap;\n",
              "      gap: 12px;\n",
              "    }\n",
              "\n",
              "    .colab-df-convert {\n",
              "      background-color: #E8F0FE;\n",
              "      border: none;\n",
              "      border-radius: 50%;\n",
              "      cursor: pointer;\n",
              "      display: none;\n",
              "      fill: #1967D2;\n",
              "      height: 32px;\n",
              "      padding: 0 0 0 0;\n",
              "      width: 32px;\n",
              "    }\n",
              "\n",
              "    .colab-df-convert:hover {\n",
              "      background-color: #E2EBFA;\n",
              "      box-shadow: 0px 1px 2px rgba(60, 64, 67, 0.3), 0px 1px 3px 1px rgba(60, 64, 67, 0.15);\n",
              "      fill: #174EA6;\n",
              "    }\n",
              "\n",
              "    [theme=dark] .colab-df-convert {\n",
              "      background-color: #3B4455;\n",
              "      fill: #D2E3FC;\n",
              "    }\n",
              "\n",
              "    [theme=dark] .colab-df-convert:hover {\n",
              "      background-color: #434B5C;\n",
              "      box-shadow: 0px 1px 3px 1px rgba(0, 0, 0, 0.15);\n",
              "      filter: drop-shadow(0px 1px 2px rgba(0, 0, 0, 0.3));\n",
              "      fill: #FFFFFF;\n",
              "    }\n",
              "  </style>\n",
              "\n",
              "      <script>\n",
              "        const buttonEl =\n",
              "          document.querySelector('#df-d2ef9aab-75fa-4498-94aa-740c25d0a1cc button.colab-df-convert');\n",
              "        buttonEl.style.display =\n",
              "          google.colab.kernel.accessAllowed ? 'block' : 'none';\n",
              "\n",
              "        async function convertToInteractive(key) {\n",
              "          const element = document.querySelector('#df-d2ef9aab-75fa-4498-94aa-740c25d0a1cc');\n",
              "          const dataTable =\n",
              "            await google.colab.kernel.invokeFunction('convertToInteractive',\n",
              "                                                     [key], {});\n",
              "          if (!dataTable) return;\n",
              "\n",
              "          const docLinkHtml = 'Like what you see? Visit the ' +\n",
              "            '<a target=\"_blank\" href=https://colab.research.google.com/notebooks/data_table.ipynb>data table notebook</a>'\n",
              "            + ' to learn more about interactive tables.';\n",
              "          element.innerHTML = '';\n",
              "          dataTable['output_type'] = 'display_data';\n",
              "          await google.colab.output.renderOutput(dataTable, element);\n",
              "          const docLink = document.createElement('div');\n",
              "          docLink.innerHTML = docLinkHtml;\n",
              "          element.appendChild(docLink);\n",
              "        }\n",
              "      </script>\n",
              "    </div>\n",
              "  </div>\n",
              "  "
            ],
            "text/plain": [
              "   User_ID Product_ID  ... Product_Category_2 Product_Category_3\n",
              "0  1000004  P00128942  ...               11.0                NaN\n",
              "1  1000009  P00113442  ...                5.0                NaN\n",
              "2  1000010  P00288442  ...               14.0                NaN\n",
              "3  1000010  P00145342  ...                9.0                NaN\n",
              "4  1000011  P00053842  ...                5.0               12.0\n",
              "\n",
              "[5 rows x 11 columns]"
            ]
          },
          "metadata": {},
          "execution_count": 67
        }
      ],
      "source": [
        "testdt.head()"
      ]
    },
    {
      "cell_type": "code",
      "execution_count": 68,
      "metadata": {
        "colab": {
          "base_uri": "https://localhost:8080/"
        },
        "id": "6u81Oo2kM-Cd",
        "outputId": "21734c98-8f4a-49e8-b0c4-709a8f40a490"
      },
      "outputs": [
        {
          "output_type": "stream",
          "name": "stdout",
          "text": [
            "(550068, 12)\n",
            "(233599, 11)\n"
          ]
        }
      ],
      "source": [
        "print(traindt.shape)\n",
        "print(testdt.shape)"
      ]
    },
    {
      "cell_type": "code",
      "execution_count": 69,
      "metadata": {
        "colab": {
          "base_uri": "https://localhost:8080/"
        },
        "id": "Y96sqKxwMoK9",
        "outputId": "01cb61c4-e9b9-40fa-eb8e-77803df0caeb"
      },
      "outputs": [
        {
          "output_type": "execute_result",
          "data": {
            "text/plain": [
              "Index(['User_ID', 'Product_ID', 'Gender', 'Age', 'Occupation', 'City_Category',\n",
              "       'Stay_In_Current_City_Years', 'Marital_Status', 'Product_Category_1',\n",
              "       'Product_Category_2', 'Product_Category_3', 'Purchase'],\n",
              "      dtype='object')"
            ]
          },
          "metadata": {},
          "execution_count": 69
        }
      ],
      "source": [
        "traindt.columns"
      ]
    },
    {
      "cell_type": "code",
      "execution_count": 70,
      "metadata": {
        "id": "LxUsi4OI-ITi"
      },
      "outputs": [],
      "source": [
        "graphcols=['Gender', 'Age', 'City_Category',\n",
        "       'Stay_In_Current_City_Years', 'Marital_Status']"
      ]
    },
    {
      "cell_type": "code",
      "execution_count": 71,
      "metadata": {
        "colab": {
          "base_uri": "https://localhost:8080/",
          "height": 1000
        },
        "id": "-magfUIz9sUd",
        "outputId": "aba3d1ff-58eb-415a-8260-84170398ecc8"
      },
      "outputs": [
        {
          "output_type": "display_data",
          "data": {
            "image/png": "[encoded data removed]",
            "text/plain": [
              "<Figure size 432x288 with 1 Axes>"
            ]
          },
          "metadata": {
            "needs_background": "light"
          }
        },
        {
          "output_type": "display_data",
          "data": {
            "image/png": "[encoded data removed]",
            "text/plain": [
              "<Figure size 432x288 with 1 Axes>"
            ]
          },
          "metadata": {
            "needs_background": "light"
          }
        },
        {
          "output_type": "display_data",
          "data": {
            "image/png": "[encoded data removed]",
            "text/plain": [
              "<Figure size 432x288 with 1 Axes>"
            ]
          },
          "metadata": {
            "needs_background": "light"
          }
        },
        {
          "output_type": "display_data",
          "data": {
            "image/png": "[encoded data removed]",
            "text/plain": [
              "<Figure size 432x288 with 1 Axes>"
            ]
          },
          "metadata": {
            "needs_background": "light"
          }
        },
        {
          "output_type": "display_data",
          "data": {
            "image/png": "[encoded data removed]",
            "text/plain": [
              "<Figure size 432x288 with 1 Axes>"
            ]
          },
          "metadata": {
            "needs_background": "light"
          }
        }
      ],
      "source": [
        "for i in graphcols:\n",
        "    traindt[i].value_counts().plot.bar(color=['darkgreen','seagreen', 'springgreen', 'aquamarine', 'lightcyan', 'snow'])\n",
        "    plt.xticks(rotation=0)\n",
        "    plt.title('{0}'.format(i))\n",
        "    plt.show()"
      ]
    },
    {
      "cell_type": "markdown",
      "metadata": {
        "id": "PXLpZleXLopx"
      },
      "source": [
        "1.   it is seen that customers of age 26-35 make more purchases, customers of age 0-17 make minimal purchases\n",
        "2.   More orders are made by male customers\n",
        "3.   More orders are made people living in 'B' City Category\n",
        "4.   More orders are made people living in city for 1 years (Stay_In_Current_City_Years)\n",
        "5.   More orders are made by people with Marital Status as 0"
      ]
    },
    {
      "cell_type": "code",
      "execution_count": 72,
      "metadata": {
        "colab": {
          "base_uri": "https://localhost:8080/",
          "height": 279
        },
        "id": "iUsC7gGA_TiX",
        "outputId": "8e87bdfa-6181-44e0-8fb1-5d26d9e04228"
      },
      "outputs": [
        {
          "output_type": "display_data",
          "data": {
            "image/png": "[encoded data removed]",
            "text/plain": [
              "<Figure size 432x288 with 1 Axes>"
            ]
          },
          "metadata": {
            "needs_background": "light"
          }
        }
      ],
      "source": [
        "# bar plot with default statistic=mean\n",
        "sns.barplot(x='Gender', y='Purchase', data=traindt)\n",
        "plt.show()\n",
        "\n",
        "# though majorly male customers shop a lot, the average purchase amount is quite close for both the genders"
      ]
    },
    {
      "cell_type": "code",
      "execution_count": 73,
      "metadata": {
        "colab": {
          "base_uri": "https://localhost:8080/",
          "height": 282
        },
        "id": "ReTuAadw_emC",
        "outputId": "9a4d162d-8bf0-41f8-a14a-86dbd11d5a74"
      },
      "outputs": [
        {
          "output_type": "display_data",
          "data": {
            "image/png": "[encoded data removed]",
            "text/plain": [
              "<Figure size 432x288 with 1 Axes>"
            ]
          },
          "metadata": {
            "needs_background": "light"
          }
        }
      ],
      "source": [
        "# bar plot with default statistic=mean\n",
        "sns.barplot(y='Purchase',x='Age',data=traindt)\n",
        "plt.show()\n",
        "\n",
        "# Average purchase amount is similar for all age groups"
      ]
    },
    {
      "cell_type": "code",
      "execution_count": 74,
      "metadata": {
        "colab": {
          "base_uri": "https://localhost:8080/",
          "height": 280
        },
        "id": "aAtA1pmIL-S5",
        "outputId": "452a3340-2ea9-4195-d7cd-0434f5af9a2a"
      },
      "outputs": [
        {
          "output_type": "display_data",
          "data": {
            "image/png": "[encoded data removed]",
            "text/plain": [
              "<Figure size 432x288 with 1 Axes>"
            ]
          },
          "metadata": {
            "needs_background": "light"
          }
        }
      ],
      "source": [
        "# bar plot with default statistic=mean\n",
        "sns.barplot(x='City_Category', y='Purchase', data=traindt)\n",
        "plt.show()\n",
        "\n",
        "# Average purchase amount is higher for C"
      ]
    },
    {
      "cell_type": "code",
      "execution_count": 75,
      "metadata": {
        "colab": {
          "base_uri": "https://localhost:8080/",
          "height": 280
        },
        "id": "E36lxMTrMSvn",
        "outputId": "3f50d31f-633f-4caf-fdc9-3b54a9dc073f"
      },
      "outputs": [
        {
          "output_type": "display_data",
          "data": {
            "image/png": "[encoded data removed]",
            "text/plain": [
              "<Figure size 432x288 with 1 Axes>"
            ]
          },
          "metadata": {
            "needs_background": "light"
          }
        }
      ],
      "source": [
        "# bar plot with default statistic=mean\n",
        "sns.barplot(x='Stay_In_Current_City_Years', y='Purchase', data=traindt)\n",
        "plt.show()\n",
        "\n",
        "# Average purchase amount nearly same for all groups of Stay_In_Current_City_Years"
      ]
    },
    {
      "cell_type": "code",
      "execution_count": 76,
      "metadata": {
        "colab": {
          "base_uri": "https://localhost:8080/",
          "height": 280
        },
        "id": "RTvLQSbFMX1A",
        "outputId": "f98dc9f7-190e-4264-8b02-005662a3e58d"
      },
      "outputs": [
        {
          "output_type": "display_data",
          "data": {
            "image/png": "[encoded data removed]",
            "text/plain": [
              "<Figure size 432x288 with 1 Axes>"
            ]
          },
          "metadata": {
            "needs_background": "light"
          }
        }
      ],
      "source": [
        "# bar plot with default statistic=mean\n",
        "sns.barplot(x='Marital_Status', y='Purchase', data=traindt)\n",
        "plt.show()\n",
        "\n",
        "# Average purchase amount is nearly same for both married and unmarried"
      ]
    },
    {
      "cell_type": "code",
      "source": [
        "plt.figure(figsize=(6,8))\n",
        "traindt.Purchase.groupby(traindt.Age).sum().plot(kind='pie',autopct='%1.1f%%',)\n",
        "plt.title(\"Sum of Purchases made by each Age group\")\n",
        "plt.show()\n",
        "# 39.9% of the total purchase amount is from the orders made by customers of Age 26-35"
      ],
      "metadata": {
        "colab": {
          "base_uri": "https://localhost:8080/",
          "height": 382
        },
        "id": "XHXYbuUbKBn8",
        "outputId": "6af4d759-22bf-4ace-a6b1-8f6a0aedf1b8"
      },
      "execution_count": 77,
      "outputs": [
        {
          "output_type": "display_data",
          "data": {
            "image/png": "[encoded data removed]",
            "text/plain": [
              "<Figure size 432x576 with 1 Axes>"
            ]
          },
          "metadata": {}
        }
      ]
    },
    {
      "cell_type": "code",
      "source": [
        "# Top 10 products for which more no of orders are made\n",
        "traindt.groupby(traindt.Product_ID)['Purchase'].count().sort_values(ascending=False)[:10]"
      ],
      "metadata": {
        "colab": {
          "base_uri": "https://localhost:8080/"
        },
        "id": "l8Ep1VS_M_wc",
        "outputId": "48a51ab1-8fe1-4886-be88-70493c18c66e"
      },
      "execution_count": 78,
      "outputs": [
        {
          "output_type": "execute_result",
          "data": {
            "text/plain": [
              "Product_ID\n",
              "P00265242    1880\n",
              "P00025442    1615\n",
              "P00110742    1612\n",
              "P00112142    1562\n",
              "P00057642    1470\n",
              "P00184942    1440\n",
              "P00046742    1438\n",
              "P00058042    1422\n",
              "P00059442    1406\n",
              "P00145042    1406\n",
              "Name: Purchase, dtype: int64"
            ]
          },
          "metadata": {},
          "execution_count": 78
        }
      ]
    },
    {
      "cell_type": "code",
      "source": [
        "traindt[traindt.User_ID==traindt.groupby(traindt.User_ID)['Purchase'].sum().idxmax()]\n",
        "# Fetching the records of the user who has made maximum Puchases during the sale"
      ],
      "metadata": {
        "colab": {
          "base_uri": "https://localhost:8080/",
          "height": 661
        },
        "id": "JWm4sD2u65gP",
        "outputId": "aceb586f-6a02-4fb4-d4e6-c0c7cdfe616b"
      },
      "execution_count": 79,
      "outputs": [
        {
          "output_type": "execute_result",
          "data": {
            "text/html": [
              "\n",
              "  <div id=\"df-c3946510-8619-4c68-9ed9-9caf7247338a\">\n",
              "    <div class=\"colab-df-container\">\n",
              "      <div>\n",
              "<style scoped>\n",
              "    .dataframe tbody tr th:only-of-type {\n",
              "        vertical-align: middle;\n",
              "    }\n",
              "\n",
              "    .dataframe tbody tr th {\n",
              "        vertical-align: top;\n",
              "    }\n",
              "\n",
              "    .dataframe thead th {\n",
              "        text-align: right;\n",
              "    }\n",
              "</style>\n",
              "<table border=\"1\" class=\"dataframe\">\n",
              "  <thead>\n",
              "    <tr style=\"text-align: right;\">\n",
              "      <th></th>\n",
              "      <th>User_ID</th>\n",
              "      <th>Product_ID</th>\n",
              "      <th>Gender</th>\n",
              "      <th>Age</th>\n",
              "      <th>Occupation</th>\n",
              "      <th>City_Category</th>\n",
              "      <th>Stay_In_Current_City_Years</th>\n",
              "      <th>Marital_Status</th>\n",
              "      <th>Product_Category_1</th>\n",
              "      <th>Product_Category_2</th>\n",
              "      <th>Product_Category_3</th>\n",
              "      <th>Purchase</th>\n",
              "    </tr>\n",
              "  </thead>\n",
              "  <tbody>\n",
              "    <tr>\n",
              "      <th>27930</th>\n",
              "      <td>1004277</td>\n",
              "      <td>P00034742</td>\n",
              "      <td>M</td>\n",
              "      <td>36-45</td>\n",
              "      <td>16</td>\n",
              "      <td>A</td>\n",
              "      <td>0</td>\n",
              "      <td>0</td>\n",
              "      <td>5</td>\n",
              "      <td>14.0</td>\n",
              "      <td>17.0</td>\n",
              "      <td>8763</td>\n",
              "    </tr>\n",
              "    <tr>\n",
              "      <th>27931</th>\n",
              "      <td>1004277</td>\n",
              "      <td>P00028542</td>\n",
              "      <td>M</td>\n",
              "      <td>36-45</td>\n",
              "      <td>16</td>\n",
              "      <td>A</td>\n",
              "      <td>0</td>\n",
              "      <td>0</td>\n",
              "      <td>6</td>\n",
              "      <td>8.0</td>\n",
              "      <td>14.0</td>\n",
              "      <td>20400</td>\n",
              "    </tr>\n",
              "    <tr>\n",
              "      <th>27932</th>\n",
              "      <td>1004277</td>\n",
              "      <td>P00116842</td>\n",
              "      <td>M</td>\n",
              "      <td>36-45</td>\n",
              "      <td>16</td>\n",
              "      <td>A</td>\n",
              "      <td>0</td>\n",
              "      <td>0</td>\n",
              "      <td>2</td>\n",
              "      <td>5.0</td>\n",
              "      <td>8.0</td>\n",
              "      <td>16070</td>\n",
              "    </tr>\n",
              "    <tr>\n",
              "      <th>27933</th>\n",
              "      <td>1004277</td>\n",
              "      <td>P00063342</td>\n",
              "      <td>M</td>\n",
              "      <td>36-45</td>\n",
              "      <td>16</td>\n",
              "      <td>A</td>\n",
              "      <td>0</td>\n",
              "      <td>0</td>\n",
              "      <td>1</td>\n",
              "      <td>2.0</td>\n",
              "      <td>9.0</td>\n",
              "      <td>15193</td>\n",
              "    </tr>\n",
              "    <tr>\n",
              "      <th>27934</th>\n",
              "      <td>1004277</td>\n",
              "      <td>P00359042</td>\n",
              "      <td>M</td>\n",
              "      <td>36-45</td>\n",
              "      <td>16</td>\n",
              "      <td>A</td>\n",
              "      <td>0</td>\n",
              "      <td>0</td>\n",
              "      <td>2</td>\n",
              "      <td>8.0</td>\n",
              "      <td>14.0</td>\n",
              "      <td>12750</td>\n",
              "    </tr>\n",
              "    <tr>\n",
              "      <th>...</th>\n",
              "      <td>...</td>\n",
              "      <td>...</td>\n",
              "      <td>...</td>\n",
              "      <td>...</td>\n",
              "      <td>...</td>\n",
              "      <td>...</td>\n",
              "      <td>...</td>\n",
              "      <td>...</td>\n",
              "      <td>...</td>\n",
              "      <td>...</td>\n",
              "      <td>...</td>\n",
              "      <td>...</td>\n",
              "    </tr>\n",
              "    <tr>\n",
              "      <th>534407</th>\n",
              "      <td>1004277</td>\n",
              "      <td>P00354242</td>\n",
              "      <td>M</td>\n",
              "      <td>36-45</td>\n",
              "      <td>16</td>\n",
              "      <td>A</td>\n",
              "      <td>0</td>\n",
              "      <td>0</td>\n",
              "      <td>5</td>\n",
              "      <td>NaN</td>\n",
              "      <td>NaN</td>\n",
              "      <td>6992</td>\n",
              "    </tr>\n",
              "    <tr>\n",
              "      <th>534408</th>\n",
              "      <td>1004277</td>\n",
              "      <td>P00370142</td>\n",
              "      <td>M</td>\n",
              "      <td>36-45</td>\n",
              "      <td>16</td>\n",
              "      <td>A</td>\n",
              "      <td>0</td>\n",
              "      <td>0</td>\n",
              "      <td>16</td>\n",
              "      <td>NaN</td>\n",
              "      <td>NaN</td>\n",
              "      <td>16801</td>\n",
              "    </tr>\n",
              "    <tr>\n",
              "      <th>534409</th>\n",
              "      <td>1004277</td>\n",
              "      <td>P00161042</td>\n",
              "      <td>M</td>\n",
              "      <td>36-45</td>\n",
              "      <td>16</td>\n",
              "      <td>A</td>\n",
              "      <td>0</td>\n",
              "      <td>0</td>\n",
              "      <td>14</td>\n",
              "      <td>16.0</td>\n",
              "      <td>NaN</td>\n",
              "      <td>11491</td>\n",
              "    </tr>\n",
              "    <tr>\n",
              "      <th>534410</th>\n",
              "      <td>1004277</td>\n",
              "      <td>P00199942</td>\n",
              "      <td>M</td>\n",
              "      <td>36-45</td>\n",
              "      <td>16</td>\n",
              "      <td>A</td>\n",
              "      <td>0</td>\n",
              "      <td>0</td>\n",
              "      <td>16</td>\n",
              "      <td>NaN</td>\n",
              "      <td>NaN</td>\n",
              "      <td>12691</td>\n",
              "    </tr>\n",
              "    <tr>\n",
              "      <th>548828</th>\n",
              "      <td>1004277</td>\n",
              "      <td>P00371644</td>\n",
              "      <td>M</td>\n",
              "      <td>36-45</td>\n",
              "      <td>16</td>\n",
              "      <td>A</td>\n",
              "      <td>0</td>\n",
              "      <td>0</td>\n",
              "      <td>20</td>\n",
              "      <td>NaN</td>\n",
              "      <td>NaN</td>\n",
              "      <td>126</td>\n",
              "    </tr>\n",
              "  </tbody>\n",
              "</table>\n",
              "<p>979 rows × 12 columns</p>\n",
              "</div>\n",
              "      <button class=\"colab-df-convert\" onclick=\"convertToInteractive('df-c3946510-8619-4c68-9ed9-9caf7247338a')\"\n",
              "              title=\"Convert this dataframe to an interactive table.\"\n",
              "              style=\"display:none;\">\n",
              "        \n",
              "  <svg xmlns=\"http://www.w3.org/2000/svg\" height=\"24px\"viewBox=\"0 0 24 24\"\n",
              "       width=\"24px\">\n",
              "    <path d=\"M0 0h24v24H0V0z\" fill=\"none\"/>\n",
              "    <path d=\"M18.56 5.44l.94 2.06.94-2.06 2.06-.94-2.06-.94-.94-2.06-.94 2.06-2.06.94zm-11 1L8.5 8.5l.94-2.06 2.06-.94-2.06-.94L8.5 2.5l-.94 2.06-2.06.94zm10 10l.94 2.06.94-2.06 2.06-.94-2.06-.94-.94-2.06-.94 2.06-2.06.94z\"/><path d=\"M17.41 7.96l-1.37-1.37c-.4-.4-.92-.59-1.43-.59-.52 0-1.04.2-1.43.59L10.3 9.45l-7.72 7.72c-.78.78-.78 2.05 0 2.83L4 21.41c.39.39.9.59 1.41.59.51 0 1.02-.2 1.41-.59l7.78-7.78 2.81-2.81c.8-.78.8-2.07 0-2.86zM5.41 20L4 18.59l7.72-7.72 1.47 1.35L5.41 20z\"/>\n",
              "  </svg>\n",
              "      </button>\n",
              "      \n",
              "  <style>\n",
              "    .colab-df-container {\n",
              "      display:flex;\n",
              "      flex-wrap:wrap;\n",
              "      gap: 12px;\n",
              "    }\n",
              "\n",
              "    .colab-df-convert {\n",
              "      background-color: #E8F0FE;\n",
              "      border: none;\n",
              "      border-radius: 50%;\n",
              "      cursor: pointer;\n",
              "      display: none;\n",
              "      fill: #1967D2;\n",
              "      height: 32px;\n",
              "      padding: 0 0 0 0;\n",
              "      width: 32px;\n",
              "    }\n",
              "\n",
              "    .colab-df-convert:hover {\n",
              "      background-color: #E2EBFA;\n",
              "      box-shadow: 0px 1px 2px rgba(60, 64, 67, 0.3), 0px 1px 3px 1px rgba(60, 64, 67, 0.15);\n",
              "      fill: #174EA6;\n",
              "    }\n",
              "\n",
              "    [theme=dark] .colab-df-convert {\n",
              "      background-color: #3B4455;\n",
              "      fill: #D2E3FC;\n",
              "    }\n",
              "\n",
              "    [theme=dark] .colab-df-convert:hover {\n",
              "      background-color: #434B5C;\n",
              "      box-shadow: 0px 1px 3px 1px rgba(0, 0, 0, 0.15);\n",
              "      filter: drop-shadow(0px 1px 2px rgba(0, 0, 0, 0.3));\n",
              "      fill: #FFFFFF;\n",
              "    }\n",
              "  </style>\n",
              "\n",
              "      <script>\n",
              "        const buttonEl =\n",
              "          document.querySelector('#df-c3946510-8619-4c68-9ed9-9caf7247338a button.colab-df-convert');\n",
              "        buttonEl.style.display =\n",
              "          google.colab.kernel.accessAllowed ? 'block' : 'none';\n",
              "\n",
              "        async function convertToInteractive(key) {\n",
              "          const element = document.querySelector('#df-c3946510-8619-4c68-9ed9-9caf7247338a');\n",
              "          const dataTable =\n",
              "            await google.colab.kernel.invokeFunction('convertToInteractive',\n",
              "                                                     [key], {});\n",
              "          if (!dataTable) return;\n",
              "\n",
              "          const docLinkHtml = 'Like what you see? Visit the ' +\n",
              "            '<a target=\"_blank\" href=https://colab.research.google.com/notebooks/data_table.ipynb>data table notebook</a>'\n",
              "            + ' to learn more about interactive tables.';\n",
              "          element.innerHTML = '';\n",
              "          dataTable['output_type'] = 'display_data';\n",
              "          await google.colab.output.renderOutput(dataTable, element);\n",
              "          const docLink = document.createElement('div');\n",
              "          docLink.innerHTML = docLinkHtml;\n",
              "          element.appendChild(docLink);\n",
              "        }\n",
              "      </script>\n",
              "    </div>\n",
              "  </div>\n",
              "  "
            ],
            "text/plain": [
              "        User_ID Product_ID  ... Product_Category_3 Purchase\n",
              "27930   1004277  P00034742  ...               17.0     8763\n",
              "27931   1004277  P00028542  ...               14.0    20400\n",
              "27932   1004277  P00116842  ...                8.0    16070\n",
              "27933   1004277  P00063342  ...                9.0    15193\n",
              "27934   1004277  P00359042  ...               14.0    12750\n",
              "...         ...        ...  ...                ...      ...\n",
              "534407  1004277  P00354242  ...                NaN     6992\n",
              "534408  1004277  P00370142  ...                NaN    16801\n",
              "534409  1004277  P00161042  ...                NaN    11491\n",
              "534410  1004277  P00199942  ...                NaN    12691\n",
              "548828  1004277  P00371644  ...                NaN      126\n",
              "\n",
              "[979 rows x 12 columns]"
            ]
          },
          "metadata": {},
          "execution_count": 79
        }
      ]
    },
    {
      "cell_type": "code",
      "execution_count": 80,
      "metadata": {
        "colab": {
          "base_uri": "https://localhost:8080/"
        },
        "id": "XnewxCVKnkXK",
        "outputId": "e517a124-ac7d-45dd-e6a6-c5d7e81f0c58"
      },
      "outputs": [
        {
          "output_type": "stream",
          "name": "stdout",
          "text": [
            "Gender\n",
            "F    8734.565765\n",
            "M    9437.526040\n",
            "Name: Purchase, dtype: float64\n"
          ]
        }
      ],
      "source": [
        "# To Check the Null average of purchase between male and female\n",
        "print(traindt.Purchase.groupby(traindt.Gender).mean())"
      ]
    },
    {
      "cell_type": "code",
      "execution_count": 81,
      "metadata": {
        "colab": {
          "base_uri": "https://localhost:8080/"
        },
        "id": "-y31Y20DosXT",
        "outputId": "b3dfb2ff-0ef6-4c8a-9585-17e5e0ea96d8"
      },
      "outputs": [
        {
          "output_type": "stream",
          "name": "stdout",
          "text": [
            "Gender\n",
            "F    2.272651e+07\n",
            "M    2.593036e+07\n",
            "Name: Purchase, dtype: float64\n"
          ]
        }
      ],
      "source": [
        "print(traindt.Purchase.groupby(traindt.Gender).var())"
      ]
    },
    {
      "cell_type": "code",
      "execution_count": 82,
      "metadata": {
        "id": "BMUjaLRqn6Up"
      },
      "outputs": [],
      "source": [
        "# Null - There is no significant difference in purchases of male and female\n",
        "# Alt - There is a significant difference in purchases of male and female"
      ]
    },
    {
      "cell_type": "code",
      "execution_count": 83,
      "metadata": {
        "id": "x8n8TlwwoXAj"
      },
      "outputs": [],
      "source": [
        "# split the data\n",
        "male=traindt[traindt.Gender=='M']\n",
        "female=male=traindt[traindt.Gender=='F']"
      ]
    },
    {
      "cell_type": "code",
      "execution_count": 84,
      "metadata": {
        "id": "MHfpQSxvoapZ"
      },
      "outputs": [],
      "source": [
        "from scipy.stats import ttest_ind"
      ]
    },
    {
      "cell_type": "code",
      "execution_count": 85,
      "metadata": {
        "colab": {
          "base_uri": "https://localhost:8080/"
        },
        "id": "AdRETc_Aoe6L",
        "outputId": "609960f4-9050-4cc6-81cb-b075dd1e4c70"
      },
      "outputs": [
        {
          "output_type": "execute_result",
          "data": {
            "text/plain": [
              "Ttest_indResult(statistic=0.0, pvalue=1.0)"
            ]
          },
          "metadata": {},
          "execution_count": 85
        }
      ],
      "source": [
        "ttest_ind(male.Purchase,female.Purchase,equal_var=False)\n",
        "# Since pvalue=1.0>0.05, we fail to reject null hypothesis"
      ]
    },
    {
      "cell_type": "code",
      "source": [
        "# checking for missing values\n",
        "round(traindt.isnull().sum().sort_values(ascending=False)/len(traindt)*100,2)\n",
        "# Missing values are treated in the below data preprocessing function"
      ],
      "metadata": {
        "colab": {
          "base_uri": "https://localhost:8080/"
        },
        "id": "v4azuCW7WsSU",
        "outputId": "590f0a6b-16c8-45ea-c1c3-9f307a388f3c"
      },
      "execution_count": 86,
      "outputs": [
        {
          "output_type": "execute_result",
          "data": {
            "text/plain": [
              "Product_Category_3            69.67\n",
              "Product_Category_2            31.57\n",
              "Purchase                       0.00\n",
              "Product_Category_1             0.00\n",
              "Marital_Status                 0.00\n",
              "Stay_In_Current_City_Years     0.00\n",
              "City_Category                  0.00\n",
              "Occupation                     0.00\n",
              "Age                            0.00\n",
              "Gender                         0.00\n",
              "Product_ID                     0.00\n",
              "User_ID                        0.00\n",
              "dtype: float64"
            ]
          },
          "metadata": {},
          "execution_count": 86
        }
      ]
    },
    {
      "cell_type": "code",
      "source": [
        "# Creating Min_Max_Scaler function\n",
        "def mini_max_scaler(data):\n",
        "  min_val=data.min()\n",
        "  max_val=data.max()\n",
        "  data=(data-min_val)/(max_val-min_val)\n",
        "  return data"
      ],
      "metadata": {
        "id": "zjBGpUdFc6o-"
      },
      "execution_count": 87,
      "outputs": []
    },
    {
      "cell_type": "code",
      "execution_count": 88,
      "metadata": {
        "id": "xIG2p9VFpEUo"
      },
      "outputs": [],
      "source": [
        "# creating a data preprocessing function\n",
        "def data_preprocessing(train,test):\n",
        "  \n",
        "  # Adding reference variable to identify train and test data\n",
        "  train['Split']='train'\n",
        "  test['Split']='test'\n",
        "\n",
        "  # Concatenating train data (without purchase) and test data row wise\n",
        "  concatdt=pd.concat([train.drop('Purchase',axis=1),test],axis=0)\n",
        "\n",
        "  # Treating Missing values\n",
        "\n",
        "  # replacing missing values in Product_Category_2 and Product_Category_3 with 0\n",
        "  concatdt.Product_Category_2.fillna(0,inplace=True)\n",
        "  concatdt.Product_Category_3.fillna(0,inplace=True)\n",
        "\n",
        "  # Split columns in to category columns and numeric columns\n",
        "  catcols=concatdt[['Gender', 'Age', 'City_Category','Stay_In_Current_City_Years', 'Marital_Status']]\n",
        "  numcols=concatdt.drop(['Gender', 'Age', 'City_Category',\n",
        "                           'Stay_In_Current_City_Years', 'Marital_Status'],axis=1)\n",
        "\n",
        "  # Encoding Categorical variables into dummy or indicator variables\n",
        "  catcolsdummy=pd.get_dummies(catcols)\n",
        "\n",
        "  # combining encoded catcolsdummy and numcols\n",
        "  combinedf=pd.concat([catcolsdummy,numcols],axis=1)\n",
        "\n",
        "  # Feature Engineering\n",
        "\n",
        "  # Creating User_ID_Count column with respect to training data (no of orders made by each user)\n",
        "  UID_value_counts=train.User_ID.value_counts().to_dict()\n",
        "  combinedf['User_ID_Count'] = combinedf['User_ID'].apply(lambda x:UID_value_counts.get(x,0))\n",
        "\n",
        "  # Creating Product_ID_Count column with respect to training data (no of orders for each product_ID)\n",
        "  ProdID_value_counts=train.Product_ID.value_counts().to_dict()\n",
        "  combinedf['Product_ID_Count'] = combinedf['Product_ID'].apply(lambda x:ProdID_value_counts.get(x,0))\n",
        "\n",
        "  # Creating Product_Category_1_Count column with respect to training data (no of orders of each type in product_Category_1)\n",
        "  pc1_value_counts=train.Product_Category_1.value_counts().to_dict()\n",
        "  combinedf['Product_Category_1_Count'] = combinedf['Product_Category_1'].apply(lambda x:pc1_value_counts.get(x,0))\n",
        "\n",
        "  # Creating Product_Category_2_Count column with respect to training data (no of orders of each type in product_Category_2)\n",
        "  pc2_value_counts=train.Product_Category_2.value_counts().to_dict()\n",
        "  combinedf['Product_Category_2_Count'] = combinedf['Product_Category_2'].apply(lambda x:pc2_value_counts.get(x,0))  \n",
        "\n",
        "  # Creating Product_Category_3_Count column with respect to training data (no of orders of each type in product_Category_3)\n",
        "  pc3_value_counts=train.Product_Category_3.value_counts().to_dict()\n",
        "  combinedf['Product_Category_3_Count'] = combinedf['Product_Category_3'].apply(lambda x:pc3_value_counts.get(x,0))\n",
        "\n",
        "  # Creating User_ID_MaxPurchase column with respect to training data (Max purchase made by each user)\n",
        "  UID_Max_Purchase=train.Purchase.groupby(train.User_ID).max().to_dict()\n",
        "  combinedf['User_ID_MaxPurchase'] = combinedf['User_ID'].apply(lambda x:UID_Max_Purchase.get(x,0))\n",
        "\n",
        "  # Creating User_ID_MinPurchase column with respect to training data (Min purchase made by each user)\n",
        "  UID_Min_Purchase=train.Purchase.groupby(train.User_ID).min().to_dict()\n",
        "  combinedf['User_ID_MinPurchase'] = combinedf['User_ID'].apply(lambda x:UID_Min_Purchase.get(x,0))\n",
        "\n",
        "  # Creating User_ID_AvgPurchase column with respect to training data (Avg purchase made by each user)\n",
        "  UID_Avg_Purchase=train.Purchase.groupby(train.User_ID).mean().to_dict()\n",
        "  combinedf['User_ID_AvgPurchase'] = combinedf['User_ID'].apply(lambda x:UID_Avg_Purchase.get(x,0))\n",
        "\n",
        "  # Creating User_ID_PurchaseSum column with respect to training data (total purchase made by each user)\n",
        "  UID_PurchaseSum=train.Purchase.groupby(train.User_ID).sum().to_dict()\n",
        "  combinedf['User_ID_PurchaseSum'] = combinedf['User_ID'].apply(lambda x:UID_PurchaseSum.get(x,0))\n",
        "\n",
        "  # Creating Product_ID_MaxPurchase column with respect to training data (Max purchase of each product_ID)\n",
        "  ProdID_Max_Purchase=train.Purchase.groupby(train.Product_ID).max().to_dict()\n",
        "  combinedf['Product_ID_MaxPurchase'] = combinedf['Product_ID'].apply(lambda x:ProdID_Max_Purchase.get(x,0))\n",
        "\n",
        "  # Creating Product_ID_MinPurchase column with respect to training data (Min purchase of each product_ID)\n",
        "  ProdID_Min_Purchase=train.Purchase.groupby(train.Product_ID).min().to_dict()\n",
        "  combinedf['Product_ID_MinPurchase'] = combinedf['Product_ID'].apply(lambda x:ProdID_Min_Purchase.get(x,0))\n",
        "\n",
        "  # Creating Product_ID_AvgPurchase column with respect to training data (Avg purchase of each product_ID)\n",
        "  ProdID_Avg_Purchase=train.Purchase.groupby(train.Product_ID).mean().to_dict()\n",
        "  combinedf['Product_ID_AvgPurchase'] = combinedf['Product_ID'].apply(lambda x:ProdID_Avg_Purchase.get(x,0))\n",
        "\n",
        "  # Creating Product_ID_PurchaseSum column with respect to training data (total purchase made for each product)\n",
        "  ProdID_PurchaseSum=train.Purchase.groupby(train.Product_ID).sum().to_dict()\n",
        "  combinedf['Product_ID_PurchaseSum'] = combinedf['Product_ID'].apply(lambda x:ProdID_PurchaseSum.get(x,0))\n",
        "\n",
        "  # Dropping User_ID and Product_ID columns\n",
        "  # combinedf.drop(['User_ID','Product_ID'],axis=1,inplace=True)\n",
        "  combinedf.Product_ID=combinedf.Product_ID.str.slice(1,).astype('int64')\n",
        "\n",
        "  # Select the scaling columns\n",
        "  scale_cols=['User_ID','Product_ID','User_ID_Count','Product_ID_Count','Product_Category_1_Count','Product_Category_2_Count',\n",
        "            'Product_Category_3_Count','User_ID_MaxPurchase','User_ID_MinPurchase','User_ID_AvgPurchase','User_ID_PurchaseSum',\n",
        "            'Product_ID_MaxPurchase','Product_ID_MinPurchase','Product_ID_AvgPurchase','Product_ID_PurchaseSum']\n",
        "\n",
        "  # Scaling the columns\n",
        "  for col in scale_cols:\n",
        "    combinedf[col]=mini_max_scaler(combinedf[col])\n",
        "\n",
        "  # Splitting the train and test data\n",
        "  traindf=combinedf[combinedf.Split=='train']\n",
        "  testdf=combinedf[combinedf.Split=='test']\n",
        "\n",
        "  # Dropping the Split column from train and test data\n",
        "  traindf.drop('Split',axis=1,inplace=True)\n",
        "  testdf.drop('Split',axis=1,inplace=True)\n",
        "\n",
        "  # Adding the Purchase column to the traindf\n",
        "  traindf['Purchase']=train.Purchase\n",
        "\n",
        "  # returning the processed train and test data\n",
        "  return traindf,testdf"
      ]
    },
    {
      "cell_type": "code",
      "execution_count": 89,
      "metadata": {
        "colab": {
          "base_uri": "https://localhost:8080/"
        },
        "id": "EL95mAEIc7f4",
        "outputId": "fa2a7c9f-93d2-4a1d-b57f-e4b075c04184"
      },
      "outputs": [
        {
          "output_type": "stream",
          "name": "stdout",
          "text": [
            "(550068, 12)\n",
            "(233599, 11)\n"
          ]
        }
      ],
      "source": [
        "print(traindt.shape)\n",
        "print(testdt.shape)"
      ]
    },
    {
      "cell_type": "code",
      "execution_count": 93,
      "metadata": {
        "colab": {
          "base_uri": "https://localhost:8080/"
        },
        "id": "QEPrW6yqcuEs",
        "outputId": "63b5f54c-481f-4622-d661-84cb5f87ca35"
      },
      "outputs": [
        {
          "output_type": "stream",
          "name": "stderr",
          "text": [
            "/usr/local/lib/python3.7/dist-packages/pandas/core/frame.py:4174: SettingWithCopyWarning: \n",
            "A value is trying to be set on a copy of a slice from a DataFrame\n",
            "\n",
            "See the caveats in the documentation: https://pandas.pydata.org/pandas-docs/stable/user_guide/indexing.html#returning-a-view-versus-a-copy\n",
            "  errors=errors,\n",
            "/usr/local/lib/python3.7/dist-packages/ipykernel_launcher.py:104: SettingWithCopyWarning: \n",
            "A value is trying to be set on a copy of a slice from a DataFrame.\n",
            "Try using .loc[row_indexer,col_indexer] = value instead\n",
            "\n",
            "See the caveats in the documentation: https://pandas.pydata.org/pandas-docs/stable/user_guide/indexing.html#returning-a-view-versus-a-copy\n"
          ]
        }
      ],
      "source": [
        "Clean_train,Clean_test=data_preprocessing(traindt,testdt)"
      ]
    },
    {
      "cell_type": "code",
      "execution_count": 94,
      "metadata": {
        "colab": {
          "base_uri": "https://localhost:8080/"
        },
        "id": "hcjMf00MdEHG",
        "outputId": "9012d654-ab1e-4e9a-9f41-89420befd807"
      },
      "outputs": [
        {
          "output_type": "stream",
          "name": "stdout",
          "text": [
            "(550068, 38)\n",
            "(233599, 37)\n"
          ]
        }
      ],
      "source": [
        "print(Clean_train.shape)\n",
        "print(Clean_test.shape)"
      ]
    },
    {
      "cell_type": "code",
      "source": [
        "Clean_train.head()"
      ],
      "metadata": {
        "colab": {
          "base_uri": "https://localhost:8080/",
          "height": 287
        },
        "id": "Igj_6zCGRSFj",
        "outputId": "ce50b5fc-4b88-4804-9431-af4adb6d41d0"
      },
      "execution_count": 95,
      "outputs": [
        {
          "output_type": "execute_result",
          "data": {
            "text/html": [
              "\n",
              "  <div id=\"df-42de103e-51e3-49d7-9419-fd2c1701daac\">\n",
              "    <div class=\"colab-df-container\">\n",
              "      <div>\n",
              "<style scoped>\n",
              "    .dataframe tbody tr th:only-of-type {\n",
              "        vertical-align: middle;\n",
              "    }\n",
              "\n",
              "    .dataframe tbody tr th {\n",
              "        vertical-align: top;\n",
              "    }\n",
              "\n",
              "    .dataframe thead th {\n",
              "        text-align: right;\n",
              "    }\n",
              "</style>\n",
              "<table border=\"1\" class=\"dataframe\">\n",
              "  <thead>\n",
              "    <tr style=\"text-align: right;\">\n",
              "      <th></th>\n",
              "      <th>Marital_Status</th>\n",
              "      <th>Gender_F</th>\n",
              "      <th>Gender_M</th>\n",
              "      <th>Age_0-17</th>\n",
              "      <th>Age_18-25</th>\n",
              "      <th>Age_26-35</th>\n",
              "      <th>Age_36-45</th>\n",
              "      <th>Age_46-50</th>\n",
              "      <th>Age_51-55</th>\n",
              "      <th>Age_55+</th>\n",
              "      <th>City_Category_A</th>\n",
              "      <th>City_Category_B</th>\n",
              "      <th>City_Category_C</th>\n",
              "      <th>Stay_In_Current_City_Years_0</th>\n",
              "      <th>Stay_In_Current_City_Years_1</th>\n",
              "      <th>Stay_In_Current_City_Years_2</th>\n",
              "      <th>Stay_In_Current_City_Years_3</th>\n",
              "      <th>Stay_In_Current_City_Years_4+</th>\n",
              "      <th>User_ID</th>\n",
              "      <th>Product_ID</th>\n",
              "      <th>Occupation</th>\n",
              "      <th>Product_Category_1</th>\n",
              "      <th>Product_Category_2</th>\n",
              "      <th>Product_Category_3</th>\n",
              "      <th>User_ID_Count</th>\n",
              "      <th>Product_ID_Count</th>\n",
              "      <th>Product_Category_1_Count</th>\n",
              "      <th>Product_Category_2_Count</th>\n",
              "      <th>Product_Category_3_Count</th>\n",
              "      <th>User_ID_MaxPurchase</th>\n",
              "      <th>User_ID_MinPurchase</th>\n",
              "      <th>User_ID_AvgPurchase</th>\n",
              "      <th>User_ID_PurchaseSum</th>\n",
              "      <th>Product_ID_MaxPurchase</th>\n",
              "      <th>Product_ID_MinPurchase</th>\n",
              "      <th>Product_ID_AvgPurchase</th>\n",
              "      <th>Product_ID_PurchaseSum</th>\n",
              "      <th>Purchase</th>\n",
              "    </tr>\n",
              "  </thead>\n",
              "  <tbody>\n",
              "    <tr>\n",
              "      <th>0</th>\n",
              "      <td>0</td>\n",
              "      <td>1</td>\n",
              "      <td>0</td>\n",
              "      <td>1</td>\n",
              "      <td>0</td>\n",
              "      <td>0</td>\n",
              "      <td>0</td>\n",
              "      <td>0</td>\n",
              "      <td>0</td>\n",
              "      <td>0</td>\n",
              "      <td>1</td>\n",
              "      <td>0</td>\n",
              "      <td>0</td>\n",
              "      <td>0</td>\n",
              "      <td>0</td>\n",
              "      <td>1</td>\n",
              "      <td>0</td>\n",
              "      <td>0</td>\n",
              "      <td>0.000000</td>\n",
              "      <td>0.183589</td>\n",
              "      <td>10</td>\n",
              "      <td>3</td>\n",
              "      <td>0.0</td>\n",
              "      <td>0.0</td>\n",
              "      <td>0.028431</td>\n",
              "      <td>0.120745</td>\n",
              "      <td>0.131561</td>\n",
              "      <td>0.000000</td>\n",
              "      <td>0.000000</td>\n",
              "      <td>0.754568</td>\n",
              "      <td>0.052070</td>\n",
              "      <td>0.444474</td>\n",
              "      <td>0.027398</td>\n",
              "      <td>0.572430</td>\n",
              "      <td>0.130296</td>\n",
              "      <td>0.558458</td>\n",
              "      <td>0.096255</td>\n",
              "      <td>8370</td>\n",
              "    </tr>\n",
              "    <tr>\n",
              "      <th>1</th>\n",
              "      <td>0</td>\n",
              "      <td>1</td>\n",
              "      <td>0</td>\n",
              "      <td>1</td>\n",
              "      <td>0</td>\n",
              "      <td>0</td>\n",
              "      <td>0</td>\n",
              "      <td>0</td>\n",
              "      <td>0</td>\n",
              "      <td>0</td>\n",
              "      <td>1</td>\n",
              "      <td>0</td>\n",
              "      <td>0</td>\n",
              "      <td>0</td>\n",
              "      <td>0</td>\n",
              "      <td>1</td>\n",
              "      <td>0</td>\n",
              "      <td>0</td>\n",
              "      <td>0.000000</td>\n",
              "      <td>0.662947</td>\n",
              "      <td>10</td>\n",
              "      <td>1</td>\n",
              "      <td>6.0</td>\n",
              "      <td>14.0</td>\n",
              "      <td>0.028431</td>\n",
              "      <td>0.309043</td>\n",
              "      <td>0.929878</td>\n",
              "      <td>0.256928</td>\n",
              "      <td>0.564653</td>\n",
              "      <td>0.754568</td>\n",
              "      <td>0.052070</td>\n",
              "      <td>0.444474</td>\n",
              "      <td>0.027398</td>\n",
              "      <td>0.822211</td>\n",
              "      <td>0.190917</td>\n",
              "      <td>0.767014</td>\n",
              "      <td>0.338367</td>\n",
              "      <td>15200</td>\n",
              "    </tr>\n",
              "    <tr>\n",
              "      <th>2</th>\n",
              "      <td>0</td>\n",
              "      <td>1</td>\n",
              "      <td>0</td>\n",
              "      <td>1</td>\n",
              "      <td>0</td>\n",
              "      <td>0</td>\n",
              "      <td>0</td>\n",
              "      <td>0</td>\n",
              "      <td>0</td>\n",
              "      <td>0</td>\n",
              "      <td>1</td>\n",
              "      <td>0</td>\n",
              "      <td>0</td>\n",
              "      <td>0</td>\n",
              "      <td>0</td>\n",
              "      <td>1</td>\n",
              "      <td>0</td>\n",
              "      <td>0</td>\n",
              "      <td>0.000000</td>\n",
              "      <td>0.233683</td>\n",
              "      <td>10</td>\n",
              "      <td>12</td>\n",
              "      <td>0.0</td>\n",
              "      <td>0.0</td>\n",
              "      <td>0.028431</td>\n",
              "      <td>0.054255</td>\n",
              "      <td>0.023498</td>\n",
              "      <td>0.000000</td>\n",
              "      <td>0.000000</td>\n",
              "      <td>0.754568</td>\n",
              "      <td>0.052070</td>\n",
              "      <td>0.444474</td>\n",
              "      <td>0.027398</td>\n",
              "      <td>0.074120</td>\n",
              "      <td>0.016877</td>\n",
              "      <td>0.058236</td>\n",
              "      <td>0.004510</td>\n",
              "      <td>1422</td>\n",
              "    </tr>\n",
              "    <tr>\n",
              "      <th>3</th>\n",
              "      <td>0</td>\n",
              "      <td>1</td>\n",
              "      <td>0</td>\n",
              "      <td>1</td>\n",
              "      <td>0</td>\n",
              "      <td>0</td>\n",
              "      <td>0</td>\n",
              "      <td>0</td>\n",
              "      <td>0</td>\n",
              "      <td>0</td>\n",
              "      <td>1</td>\n",
              "      <td>0</td>\n",
              "      <td>0</td>\n",
              "      <td>0</td>\n",
              "      <td>0</td>\n",
              "      <td>1</td>\n",
              "      <td>0</td>\n",
              "      <td>0</td>\n",
              "      <td>0.000000</td>\n",
              "      <td>0.227288</td>\n",
              "      <td>10</td>\n",
              "      <td>12</td>\n",
              "      <td>14.0</td>\n",
              "      <td>0.0</td>\n",
              "      <td>0.028431</td>\n",
              "      <td>0.181383</td>\n",
              "      <td>0.023498</td>\n",
              "      <td>0.859880</td>\n",
              "      <td>0.000000</td>\n",
              "      <td>0.754568</td>\n",
              "      <td>0.052070</td>\n",
              "      <td>0.444474</td>\n",
              "      <td>0.027398</td>\n",
              "      <td>0.074204</td>\n",
              "      <td>0.017960</td>\n",
              "      <td>0.068456</td>\n",
              "      <td>0.017725</td>\n",
              "      <td>1057</td>\n",
              "    </tr>\n",
              "    <tr>\n",
              "      <th>4</th>\n",
              "      <td>0</td>\n",
              "      <td>0</td>\n",
              "      <td>1</td>\n",
              "      <td>0</td>\n",
              "      <td>0</td>\n",
              "      <td>0</td>\n",
              "      <td>0</td>\n",
              "      <td>0</td>\n",
              "      <td>0</td>\n",
              "      <td>1</td>\n",
              "      <td>0</td>\n",
              "      <td>0</td>\n",
              "      <td>1</td>\n",
              "      <td>0</td>\n",
              "      <td>0</td>\n",
              "      <td>0</td>\n",
              "      <td>0</td>\n",
              "      <td>1</td>\n",
              "      <td>0.000166</td>\n",
              "      <td>0.760204</td>\n",
              "      <td>16</td>\n",
              "      <td>8</td>\n",
              "      <td>0.0</td>\n",
              "      <td>0.0</td>\n",
              "      <td>0.069608</td>\n",
              "      <td>0.107979</td>\n",
              "      <td>0.754137</td>\n",
              "      <td>0.000000</td>\n",
              "      <td>0.000000</td>\n",
              "      <td>0.828994</td>\n",
              "      <td>0.009286</td>\n",
              "      <td>0.504754</td>\n",
              "      <td>0.072810</td>\n",
              "      <td>0.420391</td>\n",
              "      <td>0.192885</td>\n",
              "      <td>0.361902</td>\n",
              "      <td>0.055782</td>\n",
              "      <td>7969</td>\n",
              "    </tr>\n",
              "  </tbody>\n",
              "</table>\n",
              "</div>\n",
              "      <button class=\"colab-df-convert\" onclick=\"convertToInteractive('df-42de103e-51e3-49d7-9419-fd2c1701daac')\"\n",
              "              title=\"Convert this dataframe to an interactive table.\"\n",
              "              style=\"display:none;\">\n",
              "        \n",
              "  <svg xmlns=\"http://www.w3.org/2000/svg\" height=\"24px\"viewBox=\"0 0 24 24\"\n",
              "       width=\"24px\">\n",
              "    <path d=\"M0 0h24v24H0V0z\" fill=\"none\"/>\n",
              "    <path d=\"M18.56 5.44l.94 2.06.94-2.06 2.06-.94-2.06-.94-.94-2.06-.94 2.06-2.06.94zm-11 1L8.5 8.5l.94-2.06 2.06-.94-2.06-.94L8.5 2.5l-.94 2.06-2.06.94zm10 10l.94 2.06.94-2.06 2.06-.94-2.06-.94-.94-2.06-.94 2.06-2.06.94z\"/><path d=\"M17.41 7.96l-1.37-1.37c-.4-.4-.92-.59-1.43-.59-.52 0-1.04.2-1.43.59L10.3 9.45l-7.72 7.72c-.78.78-.78 2.05 0 2.83L4 21.41c.39.39.9.59 1.41.59.51 0 1.02-.2 1.41-.59l7.78-7.78 2.81-2.81c.8-.78.8-2.07 0-2.86zM5.41 20L4 18.59l7.72-7.72 1.47 1.35L5.41 20z\"/>\n",
              "  </svg>\n",
              "      </button>\n",
              "      \n",
              "  <style>\n",
              "    .colab-df-container {\n",
              "      display:flex;\n",
              "      flex-wrap:wrap;\n",
              "      gap: 12px;\n",
              "    }\n",
              "\n",
              "    .colab-df-convert {\n",
              "      background-color: #E8F0FE;\n",
              "      border: none;\n",
              "      border-radius: 50%;\n",
              "      cursor: pointer;\n",
              "      display: none;\n",
              "      fill: #1967D2;\n",
              "      height: 32px;\n",
              "      padding: 0 0 0 0;\n",
              "      width: 32px;\n",
              "    }\n",
              "\n",
              "    .colab-df-convert:hover {\n",
              "      background-color: #E2EBFA;\n",
              "      box-shadow: 0px 1px 2px rgba(60, 64, 67, 0.3), 0px 1px 3px 1px rgba(60, 64, 67, 0.15);\n",
              "      fill: #174EA6;\n",
              "    }\n",
              "\n",
              "    [theme=dark] .colab-df-convert {\n",
              "      background-color: #3B4455;\n",
              "      fill: #D2E3FC;\n",
              "    }\n",
              "\n",
              "    [theme=dark] .colab-df-convert:hover {\n",
              "      background-color: #434B5C;\n",
              "      box-shadow: 0px 1px 3px 1px rgba(0, 0, 0, 0.15);\n",
              "      filter: drop-shadow(0px 1px 2px rgba(0, 0, 0, 0.3));\n",
              "      fill: #FFFFFF;\n",
              "    }\n",
              "  </style>\n",
              "\n",
              "      <script>\n",
              "        const buttonEl =\n",
              "          document.querySelector('#df-42de103e-51e3-49d7-9419-fd2c1701daac button.colab-df-convert');\n",
              "        buttonEl.style.display =\n",
              "          google.colab.kernel.accessAllowed ? 'block' : 'none';\n",
              "\n",
              "        async function convertToInteractive(key) {\n",
              "          const element = document.querySelector('#df-42de103e-51e3-49d7-9419-fd2c1701daac');\n",
              "          const dataTable =\n",
              "            await google.colab.kernel.invokeFunction('convertToInteractive',\n",
              "                                                     [key], {});\n",
              "          if (!dataTable) return;\n",
              "\n",
              "          const docLinkHtml = 'Like what you see? Visit the ' +\n",
              "            '<a target=\"_blank\" href=https://colab.research.google.com/notebooks/data_table.ipynb>data table notebook</a>'\n",
              "            + ' to learn more about interactive tables.';\n",
              "          element.innerHTML = '';\n",
              "          dataTable['output_type'] = 'display_data';\n",
              "          await google.colab.output.renderOutput(dataTable, element);\n",
              "          const docLink = document.createElement('div');\n",
              "          docLink.innerHTML = docLinkHtml;\n",
              "          element.appendChild(docLink);\n",
              "        }\n",
              "      </script>\n",
              "    </div>\n",
              "  </div>\n",
              "  "
            ],
            "text/plain": [
              "   Marital_Status  Gender_F  ...  Product_ID_PurchaseSum  Purchase\n",
              "0               0         1  ...                0.096255      8370\n",
              "1               0         1  ...                0.338367     15200\n",
              "2               0         1  ...                0.004510      1422\n",
              "3               0         1  ...                0.017725      1057\n",
              "4               0         0  ...                0.055782      7969\n",
              "\n",
              "[5 rows x 38 columns]"
            ]
          },
          "metadata": {},
          "execution_count": 95
        }
      ]
    },
    {
      "cell_type": "code",
      "source": [
        "# Dropping Gender_F, Age_55+, City_Category_C and Stay_In_Current_City_Years_4+ columns to avoid dummy variable trap\n",
        "Clean_train.drop(['Gender_F', 'Age_55+', 'City_Category_C', 'Stay_In_Current_City_Years_4+'],axis=1,inplace=True)\n",
        "Clean_test.drop(['Gender_F', 'Age_55+', 'City_Category_C', 'Stay_In_Current_City_Years_4+'],axis=1,inplace=True)"
      ],
      "metadata": {
        "id": "AKKQOXClTRrj"
      },
      "execution_count": 96,
      "outputs": []
    },
    {
      "cell_type": "code",
      "source": [
        "print(Clean_train.shape)\n",
        "print(Clean_test.shape)"
      ],
      "metadata": {
        "colab": {
          "base_uri": "https://localhost:8080/"
        },
        "id": "P79dWx7BUNO4",
        "outputId": "7ac9ce9b-f2ce-4bbe-aedf-16de5e45b79c"
      },
      "execution_count": 97,
      "outputs": [
        {
          "output_type": "stream",
          "name": "stdout",
          "text": [
            "(550068, 34)\n",
            "(233599, 33)\n"
          ]
        }
      ]
    },
    {
      "cell_type": "code",
      "source": [
        "sns.heatmap(Clean_train.corr())"
      ],
      "metadata": {
        "colab": {
          "base_uri": "https://localhost:8080/",
          "height": 423
        },
        "id": "JmTSbHC9W9HZ",
        "outputId": "af5ced99-6d1a-44d3-f8e8-5e37f6b06cbc"
      },
      "execution_count": 119,
      "outputs": [
        {
          "output_type": "execute_result",
          "data": {
            "text/plain": [
              "<matplotlib.axes._subplots.AxesSubplot at 0x7f4bb2813690>"
            ]
          },
          "metadata": {},
          "execution_count": 119
        },
        {
          "output_type": "display_data",
          "data": {
            "image/png": "[encoded data removed]",
            "text/plain": [
              "<Figure size 432x288 with 2 Axes>"
            ]
          },
          "metadata": {
            "needs_background": "light"
          }
        }
      ]
    },
    {
      "cell_type": "code",
      "execution_count": 141,
      "metadata": {
        "id": "auWoeK34jV4F"
      },
      "outputs": [],
      "source": [
        "# removing outliers\n",
        "\n",
        "q1 = Clean_train['Purchase'].quantile(0.25)\n",
        "q3 = Clean_train['Purchase'].quantile(0.75)\n",
        "iqr = q3-q1 #Interquartile range\n",
        "fence_low  = q1-1.5*iqr\n",
        "fence_high = q3+1.5*iqr\n",
        "Clean_train = Clean_train[(Clean_train['Purchase'] > fence_low) & (Clean_train['Purchase'] < fence_high)]"
      ]
    },
    {
      "cell_type": "code",
      "source": [
        "X=Clean_train.drop('Purchase',axis=1)\n",
        "y=Clean_train.Purchase"
      ],
      "metadata": {
        "id": "vCLqO-YlvMUH"
      },
      "execution_count": 142,
      "outputs": []
    },
    {
      "cell_type": "code",
      "execution_count": 98,
      "metadata": {
        "id": "G9UmF2ujN3lM"
      },
      "outputs": [],
      "source": [
        "from sklearn.model_selection import train_test_split\n",
        "from sklearn.metrics import mean_squared_error as rmse"
      ]
    },
    {
      "cell_type": "code",
      "execution_count": 99,
      "metadata": {
        "id": "d3luxVB7N-7T"
      },
      "outputs": [],
      "source": [
        "x_train,x_test,y_train,y_test=train_test_split(X,y,train_size=0.5,test_size=0.2,random_state=27)\n",
        "# Reducing the train size as the data set is large"
      ]
    },
    {
      "cell_type": "code",
      "execution_count": 100,
      "metadata": {
        "id": "Lhswip1zTT7-"
      },
      "outputs": [],
      "source": [
        "score=pd.DataFrame(columns=['Model','Test Accuracy','RMSE'])"
      ]
    },
    {
      "cell_type": "code",
      "execution_count": 101,
      "metadata": {
        "colab": {
          "base_uri": "https://localhost:8080/"
        },
        "id": "nITTmgczdZrV",
        "outputId": "dde9938a-1876-4a2f-aad5-6f731ab68952"
      },
      "outputs": [
        {
          "output_type": "stream",
          "name": "stdout",
          "text": [
            "Linear Regression train dataset score: 0.7427489831206646\n",
            "Linear Regression train dataset RMSE: 2545.4677334210764\n",
            "Linear Regression test dataset score: 0.7464054424258615\n",
            "Linear Regression test dataset RMSE: 2534.569555654942\n"
          ]
        }
      ],
      "source": [
        "# Linear Regression Model\n",
        "from sklearn.linear_model import LinearRegression\n",
        "\n",
        "lr=LinearRegression()\n",
        "lrmodel=lr.fit(x_train,y_train)\n",
        "print('Linear Regression train dataset score:',lrmodel.score(x_train,y_train))\n",
        "lr_train_predict=lrmodel.predict(x_train)\n",
        "print('Linear Regression train dataset RMSE:',rmse(y_train,lr_train_predict,squared=False))\n",
        "print('Linear Regression test dataset score:',lrmodel.score(x_test,y_test))\n",
        "lr_test_predict=lrmodel.predict(x_test)\n",
        "lr_rmse=rmse(y_test,lr_test_predict,squared=False)\n",
        "print('Linear Regression test dataset RMSE:',lr_rmse)\n",
        "score.loc[0]=('Linear Regression',lrmodel.score(x_test,y_test),lr_rmse)"
      ]
    },
    {
      "cell_type": "code",
      "execution_count": 102,
      "metadata": {
        "colab": {
          "base_uri": "https://localhost:8080/"
        },
        "id": "Ro11JrkRQxvh",
        "outputId": "7059a253-34c3-46b5-b793-a5a3a1f7fcee"
      },
      "outputs": [
        {
          "output_type": "stream",
          "name": "stdout",
          "text": [
            "Decision tree train dataset score: 0.7755907279509432\n",
            "Decision tree train dataset RMSE: 2377.4393392444767\n",
            "Decision tree test dataset score: 0.7352475247589806\n",
            "Decision tree test dataset RMSE: 2589.7286662512606\n"
          ]
        }
      ],
      "source": [
        "from sklearn.tree import DecisionTreeRegressor\n",
        "\n",
        "tree=DecisionTreeRegressor(max_depth=12)\n",
        "treemodel=tree.fit(x_train,y_train)\n",
        "print('Decision tree train dataset score:',treemodel.score(x_train,y_train))\n",
        "tree_train_predict=treemodel.predict(x_train)\n",
        "print('Decision tree train dataset RMSE:',rmse(y_train,tree_train_predict,squared=False))\n",
        "print('Decision tree test dataset score:',treemodel.score(x_test,y_test))\n",
        "tree_test_predict=treemodel.predict(x_test)\n",
        "tree_rmse=rmse(y_test,tree_test_predict,squared=False)\n",
        "print('Decision tree test dataset RMSE:',tree_rmse)\n",
        "score.loc[1]=('Decision tree',treemodel.score(x_test,y_test),tree_rmse)"
      ]
    },
    {
      "cell_type": "code",
      "execution_count": 103,
      "metadata": {
        "id": "YuNeLVpDmNc5"
      },
      "outputs": [],
      "source": [
        "#pd.DataFrame(tree_test_predict).to_csv('/content/drive/MyDrive/Colab Notebooks/Decision_tree.csv')"
      ]
    },
    {
      "cell_type": "code",
      "execution_count": 104,
      "metadata": {
        "colab": {
          "base_uri": "https://localhost:8080/"
        },
        "id": "v5oGNXHRVQtx",
        "outputId": "260d9fd9-1176-41f7-f170-469886aeffae"
      },
      "outputs": [
        {
          "output_type": "stream",
          "name": "stdout",
          "text": [
            "RandomForest train dataset score: 0.8024625049342529\n",
            "RandomForest train dataset RMSE: 2230.559524691794\n",
            "RandomForest test dataset score: 0.7591075042392269\n",
            "RandomForest test dataset RMSE: 2470.278310003649\n"
          ]
        }
      ],
      "source": [
        "from sklearn.ensemble import RandomForestRegressor\n",
        "\n",
        "rf=RandomForestRegressor(max_depth=13)\n",
        "rfmodel=rf.fit(x_train,y_train)\n",
        "print('RandomForest train dataset score:',rfmodel.score(x_train,y_train))\n",
        "rf_train_predict=rfmodel.predict(x_train)\n",
        "print('RandomForest train dataset RMSE:',rmse(y_train,rf_train_predict,squared=False))\n",
        "print('RandomForest test dataset score:',rfmodel.score(x_test,y_test))\n",
        "rf_test_predict=rfmodel.predict(x_test)\n",
        "rf_rmse=rmse(y_test,rf_test_predict,squared=False)\n",
        "print('RandomForest test dataset RMSE:',rf_rmse)\n",
        "score.loc[2]=('RandomForest',rfmodel.score(x_test,y_test),rf_rmse)"
      ]
    },
    {
      "cell_type": "code",
      "execution_count": 105,
      "metadata": {
        "id": "XpZehkBK7nE6"
      },
      "outputs": [],
      "source": [
        "imp=pd.DataFrame(rf.feature_importances_,index=rf.feature_names_in_,columns=['importance'])"
      ]
    },
    {
      "cell_type": "code",
      "source": [
        "len(imp)"
      ],
      "metadata": {
        "colab": {
          "base_uri": "https://localhost:8080/"
        },
        "id": "kGkVl0CeDTQb",
        "outputId": "5474d94e-824c-46aa-9c37-968c943df923"
      },
      "execution_count": 106,
      "outputs": [
        {
          "output_type": "execute_result",
          "data": {
            "text/plain": [
              "33"
            ]
          },
          "metadata": {},
          "execution_count": 106
        }
      ]
    },
    {
      "cell_type": "code",
      "source": [
        "imp.sort_values('importance',ascending=False)[:15]\n",
        "# top 15 important columns based on feature importance values"
      ],
      "metadata": {
        "colab": {
          "base_uri": "https://localhost:8080/",
          "height": 520
        },
        "id": "yj2TjihzCuhP",
        "outputId": "74e2ae84-bf74-4480-9cb8-c2428af28cb3"
      },
      "execution_count": 112,
      "outputs": [
        {
          "output_type": "execute_result",
          "data": {
            "text/html": [
              "\n",
              "  <div id=\"df-57bb2331-b4d6-4162-84cf-9f096121154b\">\n",
              "    <div class=\"colab-df-container\">\n",
              "      <div>\n",
              "<style scoped>\n",
              "    .dataframe tbody tr th:only-of-type {\n",
              "        vertical-align: middle;\n",
              "    }\n",
              "\n",
              "    .dataframe tbody tr th {\n",
              "        vertical-align: top;\n",
              "    }\n",
              "\n",
              "    .dataframe thead th {\n",
              "        text-align: right;\n",
              "    }\n",
              "</style>\n",
              "<table border=\"1\" class=\"dataframe\">\n",
              "  <thead>\n",
              "    <tr style=\"text-align: right;\">\n",
              "      <th></th>\n",
              "      <th>importance</th>\n",
              "    </tr>\n",
              "  </thead>\n",
              "  <tbody>\n",
              "    <tr>\n",
              "      <th>Product_ID_AvgPurchase</th>\n",
              "      <td>0.901652</td>\n",
              "    </tr>\n",
              "    <tr>\n",
              "      <th>User_ID_AvgPurchase</th>\n",
              "      <td>0.037170</td>\n",
              "    </tr>\n",
              "    <tr>\n",
              "      <th>User_ID_MaxPurchase</th>\n",
              "      <td>0.010156</td>\n",
              "    </tr>\n",
              "    <tr>\n",
              "      <th>User_ID_PurchaseSum</th>\n",
              "      <td>0.005999</td>\n",
              "    </tr>\n",
              "    <tr>\n",
              "      <th>User_ID</th>\n",
              "      <td>0.005668</td>\n",
              "    </tr>\n",
              "    <tr>\n",
              "      <th>User_ID_MinPurchase</th>\n",
              "      <td>0.005166</td>\n",
              "    </tr>\n",
              "    <tr>\n",
              "      <th>Product_ID_MaxPurchase</th>\n",
              "      <td>0.004944</td>\n",
              "    </tr>\n",
              "    <tr>\n",
              "      <th>User_ID_Count</th>\n",
              "      <td>0.004279</td>\n",
              "    </tr>\n",
              "    <tr>\n",
              "      <th>Product_ID</th>\n",
              "      <td>0.003465</td>\n",
              "    </tr>\n",
              "    <tr>\n",
              "      <th>Product_ID_MinPurchase</th>\n",
              "      <td>0.003163</td>\n",
              "    </tr>\n",
              "    <tr>\n",
              "      <th>Occupation</th>\n",
              "      <td>0.002620</td>\n",
              "    </tr>\n",
              "    <tr>\n",
              "      <th>Product_ID_PurchaseSum</th>\n",
              "      <td>0.002092</td>\n",
              "    </tr>\n",
              "    <tr>\n",
              "      <th>Product_ID_Count</th>\n",
              "      <td>0.001885</td>\n",
              "    </tr>\n",
              "    <tr>\n",
              "      <th>Product_Category_2</th>\n",
              "      <td>0.001262</td>\n",
              "    </tr>\n",
              "    <tr>\n",
              "      <th>Product_Category_2_Count</th>\n",
              "      <td>0.001216</td>\n",
              "    </tr>\n",
              "  </tbody>\n",
              "</table>\n",
              "</div>\n",
              "      <button class=\"colab-df-convert\" onclick=\"convertToInteractive('df-57bb2331-b4d6-4162-84cf-9f096121154b')\"\n",
              "              title=\"Convert this dataframe to an interactive table.\"\n",
              "              style=\"display:none;\">\n",
              "        \n",
              "  <svg xmlns=\"http://www.w3.org/2000/svg\" height=\"24px\"viewBox=\"0 0 24 24\"\n",
              "       width=\"24px\">\n",
              "    <path d=\"M0 0h24v24H0V0z\" fill=\"none\"/>\n",
              "    <path d=\"M18.56 5.44l.94 2.06.94-2.06 2.06-.94-2.06-.94-.94-2.06-.94 2.06-2.06.94zm-11 1L8.5 8.5l.94-2.06 2.06-.94-2.06-.94L8.5 2.5l-.94 2.06-2.06.94zm10 10l.94 2.06.94-2.06 2.06-.94-2.06-.94-.94-2.06-.94 2.06-2.06.94z\"/><path d=\"M17.41 7.96l-1.37-1.37c-.4-.4-.92-.59-1.43-.59-.52 0-1.04.2-1.43.59L10.3 9.45l-7.72 7.72c-.78.78-.78 2.05 0 2.83L4 21.41c.39.39.9.59 1.41.59.51 0 1.02-.2 1.41-.59l7.78-7.78 2.81-2.81c.8-.78.8-2.07 0-2.86zM5.41 20L4 18.59l7.72-7.72 1.47 1.35L5.41 20z\"/>\n",
              "  </svg>\n",
              "      </button>\n",
              "      \n",
              "  <style>\n",
              "    .colab-df-container {\n",
              "      display:flex;\n",
              "      flex-wrap:wrap;\n",
              "      gap: 12px;\n",
              "    }\n",
              "\n",
              "    .colab-df-convert {\n",
              "      background-color: #E8F0FE;\n",
              "      border: none;\n",
              "      border-radius: 50%;\n",
              "      cursor: pointer;\n",
              "      display: none;\n",
              "      fill: #1967D2;\n",
              "      height: 32px;\n",
              "      padding: 0 0 0 0;\n",
              "      width: 32px;\n",
              "    }\n",
              "\n",
              "    .colab-df-convert:hover {\n",
              "      background-color: #E2EBFA;\n",
              "      box-shadow: 0px 1px 2px rgba(60, 64, 67, 0.3), 0px 1px 3px 1px rgba(60, 64, 67, 0.15);\n",
              "      fill: #174EA6;\n",
              "    }\n",
              "\n",
              "    [theme=dark] .colab-df-convert {\n",
              "      background-color: #3B4455;\n",
              "      fill: #D2E3FC;\n",
              "    }\n",
              "\n",
              "    [theme=dark] .colab-df-convert:hover {\n",
              "      background-color: #434B5C;\n",
              "      box-shadow: 0px 1px 3px 1px rgba(0, 0, 0, 0.15);\n",
              "      filter: drop-shadow(0px 1px 2px rgba(0, 0, 0, 0.3));\n",
              "      fill: #FFFFFF;\n",
              "    }\n",
              "  </style>\n",
              "\n",
              "      <script>\n",
              "        const buttonEl =\n",
              "          document.querySelector('#df-57bb2331-b4d6-4162-84cf-9f096121154b button.colab-df-convert');\n",
              "        buttonEl.style.display =\n",
              "          google.colab.kernel.accessAllowed ? 'block' : 'none';\n",
              "\n",
              "        async function convertToInteractive(key) {\n",
              "          const element = document.querySelector('#df-57bb2331-b4d6-4162-84cf-9f096121154b');\n",
              "          const dataTable =\n",
              "            await google.colab.kernel.invokeFunction('convertToInteractive',\n",
              "                                                     [key], {});\n",
              "          if (!dataTable) return;\n",
              "\n",
              "          const docLinkHtml = 'Like what you see? Visit the ' +\n",
              "            '<a target=\"_blank\" href=https://colab.research.google.com/notebooks/data_table.ipynb>data table notebook</a>'\n",
              "            + ' to learn more about interactive tables.';\n",
              "          element.innerHTML = '';\n",
              "          dataTable['output_type'] = 'display_data';\n",
              "          await google.colab.output.renderOutput(dataTable, element);\n",
              "          const docLink = document.createElement('div');\n",
              "          docLink.innerHTML = docLinkHtml;\n",
              "          element.appendChild(docLink);\n",
              "        }\n",
              "      </script>\n",
              "    </div>\n",
              "  </div>\n",
              "  "
            ],
            "text/plain": [
              "                          importance\n",
              "Product_ID_AvgPurchase      0.901652\n",
              "User_ID_AvgPurchase         0.037170\n",
              "User_ID_MaxPurchase         0.010156\n",
              "User_ID_PurchaseSum         0.005999\n",
              "User_ID                     0.005668\n",
              "User_ID_MinPurchase         0.005166\n",
              "Product_ID_MaxPurchase      0.004944\n",
              "User_ID_Count               0.004279\n",
              "Product_ID                  0.003465\n",
              "Product_ID_MinPurchase      0.003163\n",
              "Occupation                  0.002620\n",
              "Product_ID_PurchaseSum      0.002092\n",
              "Product_ID_Count            0.001885\n",
              "Product_Category_2          0.001262\n",
              "Product_Category_2_Count    0.001216"
            ]
          },
          "metadata": {},
          "execution_count": 112
        }
      ]
    },
    {
      "cell_type": "code",
      "execution_count": 111,
      "metadata": {
        "colab": {
          "base_uri": "https://localhost:8080/"
        },
        "id": "yz3J2Z2zXcBd",
        "outputId": "b67d5098-da19-40d7-c66a-04f2041afe6c"
      },
      "outputs": [
        {
          "output_type": "stream",
          "name": "stdout",
          "text": [
            "GBM train dataset score: 0.7517023862011016\n",
            "GBM train dataset RMSE: 2500.7790309484462\n",
            "GBM test dataset score: 0.7536653051464701\n",
            "GBM test dataset RMSE: 2498.0265020848856\n"
          ]
        }
      ],
      "source": [
        "from sklearn.ensemble import GradientBoostingRegressor as GBM\n",
        "\n",
        "gbm=GBM()\n",
        "gbmmodel=gbm.fit(x_train,y_train)\n",
        "print('GBM train dataset score:',gbmmodel.score(x_train,y_train))\n",
        "gbm_train_predict=gbmmodel.predict(x_train)\n",
        "print('GBM train dataset RMSE:',rmse(y_train,gbm_train_predict,squared=False))\n",
        "print('GBM test dataset score:',gbmmodel.score(x_test,y_test))\n",
        "gbm_test_predict=gbmmodel.predict(x_test)\n",
        "gbm_rmse=rmse(y_test,gbm_test_predict,squared=False)\n",
        "print('GBM test dataset RMSE:',gbm_rmse)\n",
        "score.loc[3]=('GBM',gbmmodel.score(x_test,y_test),gbm_rmse)"
      ]
    },
    {
      "cell_type": "code",
      "execution_count": null,
      "metadata": {
        "id": "dkMn7JNDSW_i"
      },
      "outputs": [],
      "source": [
        "# gbm_eval_predict=gbmmodel.predict(Clean_test)"
      ]
    },
    {
      "cell_type": "code",
      "execution_count": null,
      "metadata": {
        "id": "vAMkgD3oSfsu"
      },
      "outputs": [],
      "source": [
        "#pd.DataFrame(gbm_eval_predict).to_csv('/content/drive/MyDrive/Colab Notebooks/gbm.csv')"
      ]
    },
    {
      "cell_type": "code",
      "source": [
        "from sklearn.ensemble import AdaBoostRegressor\n",
        "\n",
        "ada=AdaBoostRegressor()\n",
        "adamodel=ada.fit(x_train,y_train)\n",
        "print('ADBR train dataset score:',adamodel.score(x_train,y_train))\n",
        "ada_train_predict=adamodel.predict(x_train)\n",
        "print('ADBR train dataset RMSE:',rmse(y_train,ada_train_predict,squared=False))\n",
        "print('ADBR test dataset score:',adamodel.score(x_test,y_test))\n",
        "ada_test_predict=adamodel.predict(x_test)\n",
        "ada_rmse=rmse(y_test,ada_test_predict,squared=False)\n",
        "print('ADBR test dataset RMSE:',ada_rmse)\n",
        "score.loc[4]=('AdaBoost Regressor',gbmmodel.score(x_test,y_test),ada_rmse)"
      ],
      "metadata": {
        "colab": {
          "base_uri": "https://localhost:8080/"
        },
        "id": "MvtpOjiojkMj",
        "outputId": "74e799c8-35a9-46df-81d3-0c4425a74257"
      },
      "execution_count": 113,
      "outputs": [
        {
          "output_type": "stream",
          "name": "stdout",
          "text": [
            "ADBR train dataset score: 0.7088593778671015\n",
            "ADBR train dataset RMSE: 2707.948801723054\n",
            "ADBR test dataset score: 0.7107296212553014\n",
            "ADBR test dataset RMSE: 2706.98738350873\n"
          ]
        }
      ]
    },
    {
      "cell_type": "code",
      "source": [
        "#objective ='reg:linear', colsample_bytree = 0.6, learning_rate = 0.05,max_depth = 700, alpha = 14, n_estimators = 120)\n"
      ],
      "metadata": {
        "id": "dRkp2qn32mPk"
      },
      "execution_count": 2,
      "outputs": []
    },
    {
      "cell_type": "code",
      "execution_count": 114,
      "metadata": {
        "id": "g3Gx9t0P2gew",
        "colab": {
          "base_uri": "https://localhost:8080/"
        },
        "outputId": "1f999fe5-48e3-4cfd-f278-b5b7be729351"
      },
      "outputs": [
        {
          "output_type": "stream",
          "name": "stdout",
          "text": [
            "[10:18:42] WARNING: /workspace/src/objective/regression_obj.cu:152: reg:linear is now deprecated in favor of reg:squarederror.\n",
            "XGB train dataset score: 0.751898079244494\n",
            "XGB train dataset RMSE: 2499.7933559034586\n",
            "XGB test dataset score: 0.753932369168278\n",
            "XGB test dataset RMSE: 2496.672015821898\n"
          ]
        }
      ],
      "source": [
        "import  xgboost\n",
        "\n",
        "xgb = xgboost.XGBRegressor()\n",
        "xgbmodel=xgb.fit(x_train,y_train)\n",
        "print('XGB train dataset score:',xgbmodel.score(x_train,y_train))\n",
        "xgb_train_predict=xgbmodel.predict(x_train)\n",
        "print('XGB train dataset RMSE:',rmse(y_train,xgb_train_predict,squared=False))\n",
        "print('XGB test dataset score:',xgbmodel.score(x_test,y_test))\n",
        "xgb_test_predict=xgbmodel.predict(x_test)\n",
        "xgb_rmse=rmse(y_test,xgb_test_predict,squared=False)\n",
        "print('XGB test dataset RMSE:',xgb_rmse)\n",
        "score.loc[5]=('XGB',xgbmodel.score(x_test,y_test),xgb_rmse)"
      ]
    },
    {
      "cell_type": "code",
      "execution_count": null,
      "metadata": {
        "id": "nXfJCoFpXRxW"
      },
      "outputs": [],
      "source": [
        "# from sklearn.model_selection import GridSearchCV\n",
        "# from sklearn.neighbors import KNeighborsRegressor\n",
        "\n",
        "# parameters={'n_neighbors':range(1,5),'weights':['uniform','distance']}\n",
        "# knn=KNeighborsRegressor()\n",
        "# gridsearch=GridSearchCV(knn,parameters)\n",
        "# gridsearchmodel=gridsearch.fit(x_train,y_train)\n",
        "# gridsearchmodel.best_params_"
      ]
    },
    {
      "cell_type": "code",
      "execution_count": 115,
      "metadata": {
        "colab": {
          "base_uri": "https://localhost:8080/"
        },
        "id": "3shy8EPlYQKf",
        "outputId": "03d875f7-47b8-4123-fed8-bf0ebd6a86d9"
      },
      "outputs": [
        {
          "output_type": "stream",
          "name": "stdout",
          "text": [
            "KNN train dataset score: 0.8096151833112759\n",
            "KNN train dataset RMSE: 2189.803780793368\n",
            "KNN test dataset score: 0.6115532599231692\n",
            "KNN test dataset RMSE: 3136.895058659226\n"
          ]
        }
      ],
      "source": [
        "from sklearn.neighbors import KNeighborsRegressor\n",
        "knn=KNeighborsRegressor(n_neighbors=3)\n",
        "knnmodel=knn.fit(x_train,y_train)\n",
        "print('KNN train dataset score:',knnmodel.score(x_train,y_train))\n",
        "knn_train_predict=knnmodel.predict(x_train)\n",
        "print('KNN train dataset RMSE:',rmse(y_train,knn_train_predict,squared=False)) \n",
        "print('KNN test dataset score:',knnmodel.score(x_test,y_test))\n",
        "knn_test_predict=knnmodel.predict(x_test)\n",
        "knn_rmse=rmse(y_test,knn_test_predict,squared=False)\n",
        "print('KNN test dataset RMSE:',knn_rmse)\n",
        "score.loc[6]=('KNN',knnmodel.score(x_test,y_test),knn_rmse)"
      ]
    },
    {
      "cell_type": "code",
      "execution_count": 117,
      "metadata": {
        "id": "D1AY_BfhAToj",
        "colab": {
          "base_uri": "https://localhost:8080/"
        },
        "outputId": "82f11048-a308-41bf-b30c-d22cd5c73dbf"
      },
      "outputs": [
        {
          "output_type": "stream",
          "name": "stderr",
          "text": [
            "/usr/local/lib/python3.7/dist-packages/sklearn/neural_network/_multilayer_perceptron.py:696: ConvergenceWarning: Stochastic Optimizer: Maximum iterations (200) reached and the optimization hasn't converged yet.\n",
            "  ConvergenceWarning,\n"
          ]
        },
        {
          "output_type": "stream",
          "name": "stdout",
          "text": [
            "Neural Network train dataset score: 0.7459004015972084\n",
            "Neural Network train dataset RMSE: 2529.8282358923625\n",
            "Neural Network test dataset score: 0.7492163547736097\n",
            "Neural Network test dataset RMSE: 2520.4834777442834\n"
          ]
        }
      ],
      "source": [
        "from sklearn.neural_network import MLPRegressor\n",
        "\n",
        "nn=MLPRegressor()\n",
        "nnmodel=nn.fit(x_train,y_train)\n",
        "print('Neural Network train dataset score:',nnmodel.score(x_train,y_train))\n",
        "nn_train_predict=nnmodel.predict(x_train)\n",
        "print('Neural Network train dataset RMSE:',rmse(y_train,nn_train_predict,squared=False))\n",
        "print('Neural Network test dataset score:',nnmodel.score(x_test,y_test))\n",
        "nn_test_predict=nnmodel.predict(x_test)\n",
        "nn_rmse=rmse(y_test,nn_test_predict,squared=False)\n",
        "print('Neural Network test dataset RMSE:',nn_rmse)\n",
        "score.loc[7]=('Neural Network',nnmodel.score(x_test,y_test),nn_rmse)"
      ]
    },
    {
      "cell_type": "code",
      "source": [
        "## Model performances\n",
        "score\n",
        "# Random Forest has performed best compared to other models "
      ],
      "metadata": {
        "colab": {
          "base_uri": "https://localhost:8080/",
          "height": 300
        },
        "id": "IE7S-3oewLN1",
        "outputId": "d85c6975-f083-4c0e-ffe2-a89128378703"
      },
      "execution_count": 139,
      "outputs": [
        {
          "output_type": "execute_result",
          "data": {
            "text/html": [
              "\n",
              "  <div id=\"df-66916f17-c972-4af2-ad41-d9f33d697db5\">\n",
              "    <div class=\"colab-df-container\">\n",
              "      <div>\n",
              "<style scoped>\n",
              "    .dataframe tbody tr th:only-of-type {\n",
              "        vertical-align: middle;\n",
              "    }\n",
              "\n",
              "    .dataframe tbody tr th {\n",
              "        vertical-align: top;\n",
              "    }\n",
              "\n",
              "    .dataframe thead th {\n",
              "        text-align: right;\n",
              "    }\n",
              "</style>\n",
              "<table border=\"1\" class=\"dataframe\">\n",
              "  <thead>\n",
              "    <tr style=\"text-align: right;\">\n",
              "      <th></th>\n",
              "      <th>Model</th>\n",
              "      <th>Test Accuracy</th>\n",
              "      <th>RMSE</th>\n",
              "    </tr>\n",
              "  </thead>\n",
              "  <tbody>\n",
              "    <tr>\n",
              "      <th>0</th>\n",
              "      <td>Linear Regression</td>\n",
              "      <td>0.746405</td>\n",
              "      <td>2534.569556</td>\n",
              "    </tr>\n",
              "    <tr>\n",
              "      <th>1</th>\n",
              "      <td>Decision tree</td>\n",
              "      <td>0.735248</td>\n",
              "      <td>2589.728666</td>\n",
              "    </tr>\n",
              "    <tr>\n",
              "      <th>2</th>\n",
              "      <td>RandomForest</td>\n",
              "      <td>0.759108</td>\n",
              "      <td>2470.278310</td>\n",
              "    </tr>\n",
              "    <tr>\n",
              "      <th>3</th>\n",
              "      <td>GBM</td>\n",
              "      <td>0.753665</td>\n",
              "      <td>2498.026502</td>\n",
              "    </tr>\n",
              "    <tr>\n",
              "      <th>4</th>\n",
              "      <td>AdaBoost Regressor</td>\n",
              "      <td>0.753665</td>\n",
              "      <td>2706.987384</td>\n",
              "    </tr>\n",
              "    <tr>\n",
              "      <th>5</th>\n",
              "      <td>XGB</td>\n",
              "      <td>0.753932</td>\n",
              "      <td>2496.672016</td>\n",
              "    </tr>\n",
              "    <tr>\n",
              "      <th>6</th>\n",
              "      <td>KNN</td>\n",
              "      <td>0.611553</td>\n",
              "      <td>3136.895059</td>\n",
              "    </tr>\n",
              "    <tr>\n",
              "      <th>7</th>\n",
              "      <td>Neural Network</td>\n",
              "      <td>0.749216</td>\n",
              "      <td>2520.483478</td>\n",
              "    </tr>\n",
              "  </tbody>\n",
              "</table>\n",
              "</div>\n",
              "      <button class=\"colab-df-convert\" onclick=\"convertToInteractive('df-66916f17-c972-4af2-ad41-d9f33d697db5')\"\n",
              "              title=\"Convert this dataframe to an interactive table.\"\n",
              "              style=\"display:none;\">\n",
              "        \n",
              "  <svg xmlns=\"http://www.w3.org/2000/svg\" height=\"24px\"viewBox=\"0 0 24 24\"\n",
              "       width=\"24px\">\n",
              "    <path d=\"M0 0h24v24H0V0z\" fill=\"none\"/>\n",
              "    <path d=\"M18.56 5.44l.94 2.06.94-2.06 2.06-.94-2.06-.94-.94-2.06-.94 2.06-2.06.94zm-11 1L8.5 8.5l.94-2.06 2.06-.94-2.06-.94L8.5 2.5l-.94 2.06-2.06.94zm10 10l.94 2.06.94-2.06 2.06-.94-2.06-.94-.94-2.06-.94 2.06-2.06.94z\"/><path d=\"M17.41 7.96l-1.37-1.37c-.4-.4-.92-.59-1.43-.59-.52 0-1.04.2-1.43.59L10.3 9.45l-7.72 7.72c-.78.78-.78 2.05 0 2.83L4 21.41c.39.39.9.59 1.41.59.51 0 1.02-.2 1.41-.59l7.78-7.78 2.81-2.81c.8-.78.8-2.07 0-2.86zM5.41 20L4 18.59l7.72-7.72 1.47 1.35L5.41 20z\"/>\n",
              "  </svg>\n",
              "      </button>\n",
              "      \n",
              "  <style>\n",
              "    .colab-df-container {\n",
              "      display:flex;\n",
              "      flex-wrap:wrap;\n",
              "      gap: 12px;\n",
              "    }\n",
              "\n",
              "    .colab-df-convert {\n",
              "      background-color: #E8F0FE;\n",
              "      border: none;\n",
              "      border-radius: 50%;\n",
              "      cursor: pointer;\n",
              "      display: none;\n",
              "      fill: #1967D2;\n",
              "      height: 32px;\n",
              "      padding: 0 0 0 0;\n",
              "      width: 32px;\n",
              "    }\n",
              "\n",
              "    .colab-df-convert:hover {\n",
              "      background-color: #E2EBFA;\n",
              "      box-shadow: 0px 1px 2px rgba(60, 64, 67, 0.3), 0px 1px 3px 1px rgba(60, 64, 67, 0.15);\n",
              "      fill: #174EA6;\n",
              "    }\n",
              "\n",
              "    [theme=dark] .colab-df-convert {\n",
              "      background-color: #3B4455;\n",
              "      fill: #D2E3FC;\n",
              "    }\n",
              "\n",
              "    [theme=dark] .colab-df-convert:hover {\n",
              "      background-color: #434B5C;\n",
              "      box-shadow: 0px 1px 3px 1px rgba(0, 0, 0, 0.15);\n",
              "      filter: drop-shadow(0px 1px 2px rgba(0, 0, 0, 0.3));\n",
              "      fill: #FFFFFF;\n",
              "    }\n",
              "  </style>\n",
              "\n",
              "      <script>\n",
              "        const buttonEl =\n",
              "          document.querySelector('#df-66916f17-c972-4af2-ad41-d9f33d697db5 button.colab-df-convert');\n",
              "        buttonEl.style.display =\n",
              "          google.colab.kernel.accessAllowed ? 'block' : 'none';\n",
              "\n",
              "        async function convertToInteractive(key) {\n",
              "          const element = document.querySelector('#df-66916f17-c972-4af2-ad41-d9f33d697db5');\n",
              "          const dataTable =\n",
              "            await google.colab.kernel.invokeFunction('convertToInteractive',\n",
              "                                                     [key], {});\n",
              "          if (!dataTable) return;\n",
              "\n",
              "          const docLinkHtml = 'Like what you see? Visit the ' +\n",
              "            '<a target=\"_blank\" href=https://colab.research.google.com/notebooks/data_table.ipynb>data table notebook</a>'\n",
              "            + ' to learn more about interactive tables.';\n",
              "          element.innerHTML = '';\n",
              "          dataTable['output_type'] = 'display_data';\n",
              "          await google.colab.output.renderOutput(dataTable, element);\n",
              "          const docLink = document.createElement('div');\n",
              "          docLink.innerHTML = docLinkHtml;\n",
              "          element.appendChild(docLink);\n",
              "        }\n",
              "      </script>\n",
              "    </div>\n",
              "  </div>\n",
              "  "
            ],
            "text/plain": [
              "                Model  Test Accuracy         RMSE\n",
              "0   Linear Regression       0.746405  2534.569556\n",
              "1       Decision tree       0.735248  2589.728666\n",
              "2        RandomForest       0.759108  2470.278310\n",
              "3                 GBM       0.753665  2498.026502\n",
              "4  AdaBoost Regressor       0.753665  2706.987384\n",
              "5                 XGB       0.753932  2496.672016\n",
              "6                 KNN       0.611553  3136.895059\n",
              "7      Neural Network       0.749216  2520.483478"
            ]
          },
          "metadata": {},
          "execution_count": 139
        }
      ]
    },
    {
      "cell_type": "code",
      "source": [
        "# Hyper Parameter tuning for Random Forest Algoritm"
      ],
      "metadata": {
        "id": "gAISL90MXyZW"
      },
      "execution_count": null,
      "outputs": []
    },
    {
      "cell_type": "code",
      "source": [
        "from sklearn.model_selection import RandomizedSearchCV\n",
        "from sklearn.model_selection import StratifiedKFold"
      ],
      "metadata": {
        "id": "nCtmDajraMSS"
      },
      "execution_count": 133,
      "outputs": []
    },
    {
      "cell_type": "code",
      "source": [
        "# A parameter grid for XGBoost\n",
        "params = {\n",
        "        'alpha': [0.5, 1, 1.5, 2,3,5,7,9,10,12,14],\n",
        "        'colsample_bytree': [0.6, 0.8, 1.0],\n",
        "        'max_depth': [100,200,300,400,500,600,700,800,900,1000,1100,1200],\n",
        "        'n_estimators':[30,50,70,80,90,100,120,140,160,180],\n",
        "        'learning_rate':[0.001,0.005,0.01,0.05,0.1,0.2,0.3,0.4,0.5,0.6]\n",
        "        }"
      ],
      "metadata": {
        "id": "dSlcTP5BvlKy"
      },
      "execution_count": 134,
      "outputs": []
    }
  ],
  "metadata": {
    "colab": {
      "collapsed_sections": [],
      "name": "Black Friday Sales Prediction.ipynb",
      "provenance": []
    },
    "kernelspec": {
      "display_name": "Python 3",
      "name": "python3"
    },
    "language_info": {
      "name": "python"
    }
  },
  "nbformat": 4,
  "nbformat_minor": 0
}